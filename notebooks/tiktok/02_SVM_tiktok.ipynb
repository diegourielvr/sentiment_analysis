{
 "cells": [
  {
   "cell_type": "markdown",
   "metadata": {},
   "source": [
    "# SVM - TikTok"
   ]
  },
  {
   "cell_type": "code",
   "execution_count": 1,
   "metadata": {},
   "outputs": [],
   "source": [
    "import sys\n",
    "import os\n",
    "import pandas as pd\n",
    "\n",
    "# Agregar el directorio raiz al PYTHONPATH\n",
    "module_path = os.path.abspath(os.path.join('../..'))\n",
    "if module_path not in sys.path:\n",
    "    sys.path.append(module_path)"
   ]
  },
  {
   "cell_type": "markdown",
   "metadata": {},
   "source": [
    "Importar modelo de SVM para entrenarlo"
   ]
  },
  {
   "cell_type": "code",
   "execution_count": 2,
   "metadata": {},
   "outputs": [
    {
     "name": "stdout",
     "output_type": "stream",
     "text": [
      "(13727, 2)\n",
      "(2942, 2)\n",
      "(2942, 2)\n"
     ]
    }
   ],
   "source": [
    "from src.trainers.train_svm import train_svm\n",
    "from src.trainers.utils import save_model\n",
    "from src.trainers.utils import build_datasets, save_metrics\n",
    "from constants.constants_tiktok import TIKTOK_DATASET_SENTENCES, TIKTOK_SVM_METRICS_PATH\n",
    "\n",
    "dataset_train, dataset_test, dataset_val = build_datasets(\n",
    "    TIKTOK_DATASET_SENTENCES,\n",
    "    test_size=0.3,\n",
    "    val_size=0.5, # 0.5 de 0.3    \n",
    "    random_state=42\n",
    ")\n",
    "print(dataset_train.shape)\n",
    "print(dataset_test.shape)\n",
    "print(dataset_val.shape)"
   ]
  },
  {
   "cell_type": "code",
   "execution_count": 3,
   "metadata": {},
   "outputs": [
    {
     "name": "stdout",
     "output_type": "stream",
     "text": [
      "[ 0.01        0.0143845   0.02069138  0.02976351  0.04281332  0.06158482\n",
      "  0.08858668  0.1274275   0.18329807  0.26366509  0.37926902  0.54555948\n",
      "  0.78475997  1.12883789  1.62377674  2.33572147  3.35981829  4.83293024\n",
      "  6.95192796 10.        ]\n"
     ]
    }
   ],
   "source": [
    "import numpy as np\n",
    "\n",
    "list_kernel = [\"linear\", \"rbf\", 'poly']\n",
    "list_vectorizers = [\"tfidf\", \"bow\"]\n",
    "list_C = np.logspace(-2, 1, 20)\n",
    "print(list_C)"
   ]
  },
  {
   "cell_type": "markdown",
   "metadata": {},
   "source": [
    "## Entrenar modelos"
   ]
  },
  {
   "cell_type": "code",
   "execution_count": 4,
   "metadata": {},
   "outputs": [
    {
     "name": "stdout",
     "output_type": "stream",
     "text": [
      "SVM tfidf linear 0.01: 0.34568320870156355\n",
      "SVM tfidf linear 0.01438449888287663: 0.358599592114208\n",
      "SVM tfidf linear 0.0206913808111479: 0.3891910265125765\n",
      "SVM tfidf linear 0.029763514416313176: 0.4507138001359619\n",
      "SVM tfidf linear 0.04281332398719394: 0.5003399048266486\n",
      "SVM tfidf linear 0.06158482110660264: 0.5669612508497621\n",
      "SVM tfidf linear 0.08858667904100823: 0.6033310673011557\n",
      "SVM tfidf linear 0.12742749857031335: 0.631883072739633\n",
      "SVM tfidf linear 0.18329807108324356: 0.6563562202583276\n",
      "SVM tfidf linear 0.26366508987303583: 0.6777702243371856\n",
      "SVM tfidf linear 0.37926901907322497: 0.6825288919102651\n",
      "SVM tfidf linear 0.5455594781168517: 0.6893269884432359\n",
      "SVM tfidf linear 0.7847599703514611: 0.6954452753229096\n",
      "SVM tfidf linear 1.1288378916846884: 0.6893269884432359\n",
      "SVM tfidf linear 1.623776739188721: 0.6954452753229096\n",
      "SVM tfidf linear 2.3357214690901213: 0.69068660774983\n",
      "SVM tfidf linear 3.359818286283781: 0.6838885112168592\n",
      "SVM tfidf linear 4.832930238571752: 0.677430319510537\n",
      "SVM tfidf linear 6.951927961775605: 0.671651937457512\n",
      "SVM tfidf linear 10.0: 0.6730115567641061\n"
     ]
    },
    {
     "name": "stderr",
     "output_type": "stream",
     "text": [
      "c:\\Users\\Diego\\anaconda3\\envs\\tensorflow_pytorch\\Lib\\site-packages\\sklearn\\metrics\\_classification.py:1565: UndefinedMetricWarning: Precision is ill-defined and being set to 0.0 in labels with no predicted samples. Use `zero_division` parameter to control this behavior.\n",
      "  _warn_prf(average, modifier, f\"{metric.capitalize()} is\", len(result))\n"
     ]
    },
    {
     "name": "stdout",
     "output_type": "stream",
     "text": [
      "SVM tfidf rbf 0.01: 0.3416043507817811\n"
     ]
    },
    {
     "name": "stderr",
     "output_type": "stream",
     "text": [
      "c:\\Users\\Diego\\anaconda3\\envs\\tensorflow_pytorch\\Lib\\site-packages\\sklearn\\metrics\\_classification.py:1565: UndefinedMetricWarning: Precision is ill-defined and being set to 0.0 in labels with no predicted samples. Use `zero_division` parameter to control this behavior.\n",
      "  _warn_prf(average, modifier, f\"{metric.capitalize()} is\", len(result))\n"
     ]
    },
    {
     "name": "stdout",
     "output_type": "stream",
     "text": [
      "SVM tfidf rbf 0.01438449888287663: 0.3416043507817811\n"
     ]
    },
    {
     "name": "stderr",
     "output_type": "stream",
     "text": [
      "c:\\Users\\Diego\\anaconda3\\envs\\tensorflow_pytorch\\Lib\\site-packages\\sklearn\\metrics\\_classification.py:1565: UndefinedMetricWarning: Precision is ill-defined and being set to 0.0 in labels with no predicted samples. Use `zero_division` parameter to control this behavior.\n",
      "  _warn_prf(average, modifier, f\"{metric.capitalize()} is\", len(result))\n"
     ]
    },
    {
     "name": "stdout",
     "output_type": "stream",
     "text": [
      "SVM tfidf rbf 0.0206913808111479: 0.3416043507817811\n",
      "SVM tfidf rbf 0.029763514416313176: 0.3433038749150238\n",
      "SVM tfidf rbf 0.04281332398719394: 0.3653976886471788\n",
      "SVM tfidf rbf 0.06158482110660264: 0.3847722637661455\n",
      "SVM tfidf rbf 0.08858667904100823: 0.4476546566961251\n",
      "SVM tfidf rbf 0.12742749857031335: 0.509517335146159\n",
      "SVM tfidf rbf 0.18329807108324356: 0.5744391570360299\n",
      "SVM tfidf rbf 0.26366508987303583: 0.6162474507138002\n",
      "SVM tfidf rbf 0.37926901907322497: 0.6512576478585996\n",
      "SVM tfidf rbf 0.5455594781168517: 0.672331747110809\n",
      "SVM tfidf rbf 0.7847599703514611: 0.6913664174031271\n",
      "SVM tfidf rbf 1.1288378916846884: 0.6920462270564242\n",
      "SVM tfidf rbf 1.623776739188721: 0.6964649898028552\n",
      "SVM tfidf rbf 2.3357214690901213: 0.6961250849762066\n",
      "SVM tfidf rbf 3.359818286283781: 0.6951053704962611\n",
      "SVM tfidf rbf 4.832930238571752: 0.6937457511896669\n",
      "SVM tfidf rbf 6.951927961775605: 0.6934058463630184\n",
      "SVM tfidf rbf 10.0: 0.6937457511896669\n"
     ]
    },
    {
     "name": "stderr",
     "output_type": "stream",
     "text": [
      "c:\\Users\\Diego\\anaconda3\\envs\\tensorflow_pytorch\\Lib\\site-packages\\sklearn\\metrics\\_classification.py:1565: UndefinedMetricWarning: Precision is ill-defined and being set to 0.0 in labels with no predicted samples. Use `zero_division` parameter to control this behavior.\n",
      "  _warn_prf(average, modifier, f\"{metric.capitalize()} is\", len(result))\n"
     ]
    },
    {
     "name": "stdout",
     "output_type": "stream",
     "text": [
      "SVM tfidf poly 0.01: 0.4276002719238613\n"
     ]
    },
    {
     "name": "stderr",
     "output_type": "stream",
     "text": [
      "c:\\Users\\Diego\\anaconda3\\envs\\tensorflow_pytorch\\Lib\\site-packages\\sklearn\\metrics\\_classification.py:1565: UndefinedMetricWarning: Precision is ill-defined and being set to 0.0 in labels with no predicted samples. Use `zero_division` parameter to control this behavior.\n",
      "  _warn_prf(average, modifier, f\"{metric.capitalize()} is\", len(result))\n"
     ]
    },
    {
     "name": "stdout",
     "output_type": "stream",
     "text": [
      "SVM tfidf poly 0.01438449888287663: 0.4276002719238613\n"
     ]
    },
    {
     "name": "stderr",
     "output_type": "stream",
     "text": [
      "c:\\Users\\Diego\\anaconda3\\envs\\tensorflow_pytorch\\Lib\\site-packages\\sklearn\\metrics\\_classification.py:1565: UndefinedMetricWarning: Precision is ill-defined and being set to 0.0 in labels with no predicted samples. Use `zero_division` parameter to control this behavior.\n",
      "  _warn_prf(average, modifier, f\"{metric.capitalize()} is\", len(result))\n"
     ]
    },
    {
     "name": "stdout",
     "output_type": "stream",
     "text": [
      "SVM tfidf poly 0.0206913808111479: 0.4276002719238613\n"
     ]
    },
    {
     "name": "stderr",
     "output_type": "stream",
     "text": [
      "c:\\Users\\Diego\\anaconda3\\envs\\tensorflow_pytorch\\Lib\\site-packages\\sklearn\\metrics\\_classification.py:1565: UndefinedMetricWarning: Precision is ill-defined and being set to 0.0 in labels with no predicted samples. Use `zero_division` parameter to control this behavior.\n",
      "  _warn_prf(average, modifier, f\"{metric.capitalize()} is\", len(result))\n"
     ]
    },
    {
     "name": "stdout",
     "output_type": "stream",
     "text": [
      "SVM tfidf poly 0.029763514416313176: 0.4276002719238613\n"
     ]
    },
    {
     "name": "stderr",
     "output_type": "stream",
     "text": [
      "c:\\Users\\Diego\\anaconda3\\envs\\tensorflow_pytorch\\Lib\\site-packages\\sklearn\\metrics\\_classification.py:1565: UndefinedMetricWarning: Precision is ill-defined and being set to 0.0 in labels with no predicted samples. Use `zero_division` parameter to control this behavior.\n",
      "  _warn_prf(average, modifier, f\"{metric.capitalize()} is\", len(result))\n"
     ]
    },
    {
     "name": "stdout",
     "output_type": "stream",
     "text": [
      "SVM tfidf poly 0.04281332398719394: 0.4276002719238613\n"
     ]
    },
    {
     "name": "stderr",
     "output_type": "stream",
     "text": [
      "c:\\Users\\Diego\\anaconda3\\envs\\tensorflow_pytorch\\Lib\\site-packages\\sklearn\\metrics\\_classification.py:1565: UndefinedMetricWarning: Precision is ill-defined and being set to 0.0 in labels with no predicted samples. Use `zero_division` parameter to control this behavior.\n",
      "  _warn_prf(average, modifier, f\"{metric.capitalize()} is\", len(result))\n"
     ]
    },
    {
     "name": "stdout",
     "output_type": "stream",
     "text": [
      "SVM tfidf poly 0.06158482110660264: 0.4276002719238613\n",
      "SVM tfidf poly 0.08858667904100823: 0.43133922501699523\n",
      "SVM tfidf poly 0.12742749857031335: 0.44221617946974845\n",
      "SVM tfidf poly 0.18329807108324356: 0.3776342624065262\n",
      "SVM tfidf poly 0.26366508987303583: 0.3990482664853841\n",
      "SVM tfidf poly 0.37926901907322497: 0.4507138001359619\n",
      "SVM tfidf poly 0.5455594781168517: 0.5489462950373896\n",
      "SVM tfidf poly 0.7847599703514611: 0.6070700203942896\n",
      "SVM tfidf poly 1.1288378916846884: 0.6274643099932019\n",
      "SVM tfidf poly 1.623776739188721: 0.6189666893269884\n",
      "SVM tfidf poly 2.3357214690901213: 0.619306594153637\n",
      "SVM tfidf poly 3.359818286283781: 0.6182868796736913\n",
      "SVM tfidf poly 4.832930238571752: 0.6172671651937458\n",
      "SVM tfidf poly 6.951927961775605: 0.6142080217539089\n",
      "SVM tfidf poly 10.0: 0.6128484024473148\n",
      "SVM bow linear 0.01: 0.5567641060503059\n",
      "SVM bow linear 0.01438449888287663: 0.5846363018354861\n",
      "SVM bow linear 0.0206913808111479: 0.6152277362338545\n",
      "SVM bow linear 0.029763514416313176: 0.6397008837525493\n",
      "SVM bow linear 0.04281332398719394: 0.6566961250849762\n",
      "SVM bow linear 0.06158482110660264: 0.6682528891910265\n",
      "SVM bow linear 0.08858667904100823: 0.6794697484704283\n",
      "SVM bow linear 0.12742749857031335: 0.690006798096533\n",
      "SVM bow linear 0.18329807108324356: 0.6961250849762066\n",
      "SVM bow linear 0.26366508987303583: 0.7039428959891231\n",
      "SVM bow linear 0.37926901907322497: 0.7019034670292318\n",
      "SVM bow linear 0.5455594781168517: 0.7029231815091774\n",
      "SVM bow linear 0.7847599703514611: 0.6974847042828008\n",
      "SVM bow linear 1.1288378916846884: 0.6927260367097213\n",
      "SVM bow linear 1.623776739188721: 0.6866077498300476\n",
      "SVM bow linear 2.3357214690901213: 0.6801495581237254\n",
      "SVM bow linear 3.359818286283781: 0.6808293677770224\n",
      "SVM bow linear 4.832930238571752: 0.681849082256968\n",
      "SVM bow linear 6.951927961775605: 0.67675050985724\n",
      "SVM bow linear 10.0: 0.6757307953772943\n"
     ]
    },
    {
     "name": "stderr",
     "output_type": "stream",
     "text": [
      "c:\\Users\\Diego\\anaconda3\\envs\\tensorflow_pytorch\\Lib\\site-packages\\sklearn\\metrics\\_classification.py:1565: UndefinedMetricWarning: Precision is ill-defined and being set to 0.0 in labels with no predicted samples. Use `zero_division` parameter to control this behavior.\n",
      "  _warn_prf(average, modifier, f\"{metric.capitalize()} is\", len(result))\n"
     ]
    },
    {
     "name": "stdout",
     "output_type": "stream",
     "text": [
      "SVM bow rbf 0.01: 0.3769544527532291\n",
      "SVM bow rbf 0.01438449888287663: 0.38443235893949695\n",
      "SVM bow rbf 0.0206913808111479: 0.3922501699524133\n",
      "SVM bow rbf 0.029763514416313176: 0.4265805574439157\n",
      "SVM bow rbf 0.04281332398719394: 0.4612508497620666\n",
      "SVM bow rbf 0.06158482110660264: 0.4983004758667573\n",
      "SVM bow rbf 0.08858667904100823: 0.5268524813052345\n",
      "SVM bow rbf 0.12742749857031335: 0.5571040108769545\n",
      "SVM bow rbf 0.18329807108324356: 0.5836165873555405\n",
      "SVM bow rbf 0.26366508987303583: 0.6108089734874235\n",
      "SVM bow rbf 0.37926901907322497: 0.6332426920462271\n",
      "SVM bow rbf 0.5455594781168517: 0.6549966009517335\n",
      "SVM bow rbf 0.7847599703514611: 0.6675730795377295\n",
      "SVM bow rbf 1.1288378916846884: 0.6760707002039429\n",
      "SVM bow rbf 1.623776739188721: 0.6869476546566962\n",
      "SVM bow rbf 2.3357214690901213: 0.6917063222297757\n",
      "SVM bow rbf 3.359818286283781: 0.6917063222297757\n",
      "SVM bow rbf 4.832930238571752: 0.6872875594833446\n",
      "SVM bow rbf 6.951927961775605: 0.6845683208701564\n",
      "SVM bow rbf 10.0: 0.6808293677770224\n",
      "SVM bow poly 0.01: 0.33514615907545886\n",
      "SVM bow poly 0.01438449888287663: 0.3354860639021074\n",
      "SVM bow poly 0.0206913808111479: 0.3361658735554045\n",
      "SVM bow poly 0.029763514416313176: 0.33684568320870156\n",
      "SVM bow poly 0.04281332398719394: 0.3399048266485384\n",
      "SVM bow poly 0.06158482110660264: 0.34296397008837526\n",
      "SVM bow poly 0.08858667904100823: 0.34636301835486066\n",
      "SVM bow poly 0.12742749857031335: 0.3514615907545887\n",
      "SVM bow poly 0.18329807108324356: 0.35656016315431677\n",
      "SVM bow poly 0.26366508987303583: 0.3589394969408566\n",
      "SVM bow poly 0.37926901907322497: 0.36743711760707004\n",
      "SVM bow poly 0.5455594781168517: 0.37321549966009515\n",
      "SVM bow poly 0.7847599703514611: 0.38375254928619984\n",
      "SVM bow poly 1.1288378916846884: 0.3953093133922502\n",
      "SVM bow poly 1.623776739188721: 0.4099252209381373\n",
      "SVM bow poly 2.3357214690901213: 0.42352141400407883\n",
      "SVM bow poly 3.359818286283781: 0.44221617946974845\n",
      "SVM bow poly 4.832930238571752: 0.4612508497620666\n",
      "SVM bow poly 6.951927961775605: 0.48538409245411285\n",
      "SVM bow poly 10.0: 0.5010197144799456\n"
     ]
    }
   ],
   "source": [
    "for vectorizer in list_vectorizers:\n",
    "    for kernel in list_kernel:\n",
    "        for C in list_C:\n",
    "            pipeline, metrics = train_svm(\n",
    "                dataset_train,\n",
    "                dataset_val,\n",
    "                C=C,\n",
    "                kernel=kernel,\n",
    "                vec=vectorizer\n",
    "            )\n",
    "            print(f\"SVM {vectorizer} {kernel} {C}: {metrics['accuracy']}\")\n",
    "            # Guardar Pipeline\n",
    "            save_metrics(metrics, TIKTOK_SVM_METRICS_PATH)"
   ]
  },
  {
   "cell_type": "markdown",
   "metadata": {},
   "source": [
    "## Modelo con mayor accuracy"
   ]
  },
  {
   "cell_type": "code",
   "execution_count": 5,
   "metadata": {},
   "outputs": [
    {
     "name": "stdout",
     "output_type": "stream",
     "text": [
      "accuracy           0.703943\n",
      "recall             0.703926\n",
      "precision          0.714602\n",
      "f1_score           0.706368\n",
      "model                   SVM\n",
      "vectorizer              BOW\n",
      "dataset                 VAL\n",
      "regularization     0.263665\n",
      "kernel               LINEAR\n",
      "vocab_size             9046\n",
      "train_time        14.143469\n",
      "Name: 69, dtype: object\n"
     ]
    }
   ],
   "source": [
    "# Seleccionar los hiperparámetros que generan mayor accuracy\n",
    "df_metrics = pd.read_csv(TIKTOK_SVM_METRICS_PATH)\n",
    "\n",
    "best_acc = df_metrics.loc[df_metrics['accuracy'].idxmax()]\n",
    "print(best_acc)"
   ]
  },
  {
   "cell_type": "code",
   "execution_count": 7,
   "metadata": {},
   "outputs": [
    {
     "name": "stdout",
     "output_type": "stream",
     "text": [
      "Modelo guardado en: c:\\Users\\Diego\\Desktop\\sentiment_analysis\\models\\tiktok\\classifiers\\svm_pipeline.pkl\n"
     ]
    }
   ],
   "source": [
    "from constants.constants_tiktok import SVM_PIPELINE_PATH\n",
    "\n",
    "# Entrenar modelo\n",
    "pipeline, metrics = train_svm(\n",
    "    dataset_train,\n",
    "    dataset_val,\n",
    "    C=best_acc['regularization'],\n",
    "    kernel=best_acc['kernel'].lower(),\n",
    "    vec=best_acc['vectorizer']\n",
    ")\n",
    "\n",
    "save_model(pipeline, SVM_PIPELINE_PATH)"
   ]
  },
  {
   "cell_type": "code",
   "execution_count": 8,
   "metadata": {},
   "outputs": [
    {
     "name": "stdout",
     "output_type": "stream",
     "text": [
      "Cargando modelo: c:\\Users\\Diego\\Desktop\\sentiment_analysis\\models\\tiktok\\classifiers\\svm_pipeline.pkl\n",
      "\n",
      "Support Vector Machine\n",
      "Reporte de clasificacion\n",
      "              precision    recall  f1-score   support\n",
      "\n",
      "           0       0.64      0.74      0.69       837\n",
      "           1       0.71      0.59      0.64      1185\n",
      "           2       0.74      0.79      0.76       920\n",
      "\n",
      "    accuracy                           0.69      2942\n",
      "   macro avg       0.69      0.71      0.70      2942\n",
      "weighted avg       0.70      0.69      0.69      2942\n",
      "\n",
      "Matriz de confusión\n"
     ]
    },
    {
     "data": {
      "image/png": "[encoded data removed]",
      "text/plain": [
       "<Figure size 640x480 with 2 Axes>"
      ]
     },
     "metadata": {},
     "output_type": "display_data"
    },
    {
     "name": "stdout",
     "output_type": "stream",
     "text": [
      "{'accuracy': 0.6940856560163154, 'recall': 0.6940904394377526, 'precision': 0.7060074856103699, 'f1_score': 0.6964111752883939}\n"
     ]
    }
   ],
   "source": [
    "from src.trainers.utils import evaluate_model\n",
    "from src.trainers.utils import load_model\n",
    "\n",
    "# Evaluar modelo con datos de prueba\n",
    "pipeline = load_model(SVM_PIPELINE_PATH)\n",
    "metrics = evaluate_model(pipeline, dataset_test, title=\"Support Vector Machine\")\n",
    "print(metrics)"
   ]
  },
  {
   "cell_type": "markdown",
   "metadata": {},
   "source": [
    "## Test"
   ]
  },
  {
   "cell_type": "code",
   "execution_count": 9,
   "metadata": {},
   "outputs": [
    {
     "name": "stdout",
     "output_type": "stream",
     "text": [
      "Modelo cargado: es_core_news_sm\n"
     ]
    },
    {
     "name": "stderr",
     "output_type": "stream",
     "text": [
      "100%|██████████| 5/5 [00:00<00:00, 750.00it/s]\n",
      "5it [00:00, 329.47it/s]"
     ]
    },
    {
     "name": "stdout",
     "output_type": "stream",
     "text": [
      "Aplicando stemming...\n",
      "Total de documentos preprocesados: 5\n",
      "hol estar: NEU\n",
      "feliz content: POS\n",
      "trist: NEG\n",
      "encontr estudi exam: NEU\n",
      "encontr trist mayor tiemp feliz: NEG\n"
     ]
    },
    {
     "name": "stderr",
     "output_type": "stream",
     "text": [
      "\n"
     ]
    }
   ],
   "source": [
    "from constants.constants_nlp import INDEX_TO_POLARITY\n",
    "from src.preprocesamiento.clean import clean_text\n",
    "from src.preprocesamiento.nlp_spacy import preprocesamiento\n",
    "\n",
    "textos_test = [\"Hola! cómo estás???😀\",\"el dia de hoy estoy feliz y contento\", \"estoy muy triste\", \"Me encuentro estudiando para un exámen\", \"A veces me encuentro triste, pero la mayoria del tiempo estoy muy feliz\"]\n",
    "textos_test = list(map(lambda x: clean_text(x), textos_test))\n",
    "textos_test = preprocesamiento(textos_test)\n",
    "\n",
    "preds = pipeline.predict(textos_test)\n",
    "for input, pred in zip(textos_test,preds):\n",
    "    print(f\"{input}: {INDEX_TO_POLARITY[pred]}\")"
   ]
  }
 ],
 "metadata": {
  "kernelspec": {
   "display_name": "tensorflow_pytorch",
   "language": "python",
   "name": "python3"
  },
  "language_info": {
   "codemirror_mode": {
    "name": "ipython",
    "version": 3
   },
   "file_extension": ".py",
   "mimetype": "text/x-python",
   "name": "python",
   "nbconvert_exporter": "python",
   "pygments_lexer": "ipython3",
   "version": "3.11.11"
  }
 },
 "nbformat": 4,
 "nbformat_minor": 2
}
