{
 "cells": [
  {
   "cell_type": "markdown",
   "metadata": {},
   "source": [
    "# SVM - TikTok"
   ]
  },
  {
   "cell_type": "code",
   "execution_count": 1,
   "metadata": {},
   "outputs": [],
   "source": [
    "import sys\n",
    "import os\n",
    "import pandas as pd\n",
    "\n",
    "# Agregar el directorio raiz al PYTHONPATH\n",
    "module_path = os.path.abspath(os.path.join('../..'))\n",
    "if module_path not in sys.path:\n",
    "    sys.path.append(module_path)"
   ]
  },
  {
   "cell_type": "markdown",
   "metadata": {},
   "source": [
    "Importar modelo de SVM para entrenarlo"
   ]
  },
  {
   "cell_type": "code",
   "execution_count": 2,
   "metadata": {},
   "outputs": [
    {
     "name": "stdout",
     "output_type": "stream",
     "text": [
      "Train: 23.22%\n",
      "Test: 2.90%\n",
      "Val: 2.90%\n",
      "(15688, 2)\n",
      "(1961, 2)\n",
      "(1962, 2)\n"
     ]
    }
   ],
   "source": [
    "from src.trainers.utils import build_datasets\n",
    "from constants.constants_tiktok import TIKTOK_DATASET_SENTENCES\n",
    "\n",
    "dataset_train, dataset_test, dataset_val = build_datasets(\n",
    "    TIKTOK_DATASET_SENTENCES,\n",
    "    test_size=0.2, # 20% de 100%\n",
    "    val_size=0.5, # 50% de 20%\n",
    "    random_state=42,\n",
    "    undersampling=True\n",
    ")\n",
    "print(dataset_train.shape)\n",
    "print(dataset_test.shape)\n",
    "print(dataset_val.shape)"
   ]
  },
  {
   "cell_type": "code",
   "execution_count": 12,
   "metadata": {},
   "outputs": [
    {
     "name": "stdout",
     "output_type": "stream",
     "text": [
      "[0.01       0.04216965 0.17782794 0.74989421 3.16227766]\n"
     ]
    }
   ],
   "source": [
    "import numpy as np\n",
    "\n",
    "list_kernel = [\"linear\", \"rbf\"]\n",
    "list_vectorizers = [\"tfidf\", \"bow\"]\n",
    "list_C = np.logspace(-2, 0.5, 5) \n",
    "print(list_C)"
   ]
  },
  {
   "cell_type": "markdown",
   "metadata": {},
   "source": [
    "## Entrenar modelos"
   ]
  },
  {
   "cell_type": "code",
   "execution_count": 5,
   "metadata": {},
   "outputs": [
    {
     "name": "stderr",
     "output_type": "stream",
     "text": [
      "c:\\Users\\Diego\\anaconda3\\envs\\tensorflow_pytorch\\Lib\\site-packages\\sklearn\\metrics\\_classification.py:1565: UndefinedMetricWarning: Precision is ill-defined and being set to 0.0 in labels with no predicted samples. Use `zero_division` parameter to control this behavior.\n",
      "  _warn_prf(average, modifier, f\"{metric.capitalize()} is\", len(result))\n"
     ]
    },
    {
     "name": "stdout",
     "output_type": "stream",
     "text": [
      "SVM tfidf linear 0.01: 0.3705402650356779\n",
      "Modelo guardado en: c:\\Users\\Diego\\Desktop\\sentiment_analysis\\models\\tiktok\\classifiers\\svm_pipeline.pkl\n",
      "SVM tfidf linear 0.042169650342858224: 0.5203873598369011\n",
      "Modelo guardado en: c:\\Users\\Diego\\Desktop\\sentiment_analysis\\models\\tiktok\\classifiers\\svm_pipeline.pkl\n",
      "SVM tfidf linear 0.1778279410038923: 0.6411824668705403\n",
      "Modelo guardado en: c:\\Users\\Diego\\Desktop\\sentiment_analysis\\models\\tiktok\\classifiers\\svm_pipeline.pkl\n",
      "SVM tfidf linear 0.7498942093324559: 0.682466870540265\n",
      "Modelo guardado en: c:\\Users\\Diego\\Desktop\\sentiment_analysis\\models\\tiktok\\classifiers\\svm_pipeline.pkl\n",
      "SVM tfidf linear 3.1622776601683795: 0.6880733944954128\n",
      "Modelo guardado en: c:\\Users\\Diego\\Desktop\\sentiment_analysis\\models\\tiktok\\classifiers\\svm_pipeline.pkl\n"
     ]
    },
    {
     "name": "stderr",
     "output_type": "stream",
     "text": [
      "c:\\Users\\Diego\\anaconda3\\envs\\tensorflow_pytorch\\Lib\\site-packages\\sklearn\\metrics\\_classification.py:1565: UndefinedMetricWarning: Precision is ill-defined and being set to 0.0 in labels with no predicted samples. Use `zero_division` parameter to control this behavior.\n",
      "  _warn_prf(average, modifier, f\"{metric.capitalize()} is\", len(result))\n"
     ]
    },
    {
     "name": "stdout",
     "output_type": "stream",
     "text": [
      "SVM tfidf rbf 0.01: 0.3333333333333333\n",
      "SVM tfidf rbf 0.042169650342858224: 0.48063200815494395\n",
      "SVM tfidf rbf 0.1778279410038923: 0.5851172273190621\n",
      "SVM tfidf rbf 0.7498942093324559: 0.6661569826707442\n",
      "SVM tfidf rbf 3.1622776601683795: 0.6906218144750255\n",
      "Modelo guardado en: c:\\Users\\Diego\\Desktop\\sentiment_analysis\\models\\tiktok\\classifiers\\svm_pipeline.pkl\n",
      "SVM bow linear 0.01: 0.5504587155963303\n",
      "SVM bow linear 0.042169650342858224: 0.6452599388379205\n",
      "SVM bow linear 0.1778279410038923: 0.6875637104994903\n",
      "SVM bow linear 0.7498942093324559: 0.6977573904179408\n",
      "Modelo guardado en: c:\\Users\\Diego\\Desktop\\sentiment_analysis\\models\\tiktok\\classifiers\\svm_pipeline.pkl\n",
      "SVM bow linear 3.1622776601683795: 0.6931702344546381\n"
     ]
    },
    {
     "name": "stderr",
     "output_type": "stream",
     "text": [
      "c:\\Users\\Diego\\anaconda3\\envs\\tensorflow_pytorch\\Lib\\site-packages\\sklearn\\metrics\\_classification.py:1565: UndefinedMetricWarning: Precision is ill-defined and being set to 0.0 in labels with no predicted samples. Use `zero_division` parameter to control this behavior.\n",
      "  _warn_prf(average, modifier, f\"{metric.capitalize()} is\", len(result))\n"
     ]
    },
    {
     "name": "stdout",
     "output_type": "stream",
     "text": [
      "SVM bow rbf 0.01: 0.36850152905198774\n",
      "SVM bow rbf 0.042169650342858224: 0.4648318042813456\n",
      "SVM bow rbf 0.1778279410038923: 0.5856269113149847\n",
      "SVM bow rbf 0.7498942093324559: 0.6513761467889908\n",
      "SVM bow rbf 3.1622776601683795: 0.68144750254842\n"
     ]
    }
   ],
   "source": [
    "from src.trainers.train_svm import train_svm\n",
    "from src.trainers.utils import save_model, save_metrics\n",
    "from constants.constants_tiktok import TIKTOK_SVM_METRICS_PATH, SVM_PIPELINE_PATH\n",
    "\n",
    "best_accuracy = -1\n",
    "for vectorizer in list_vectorizers:\n",
    "    for kernel in list_kernel:\n",
    "        for C in list_C:\n",
    "            pipeline, metrics = train_svm(\n",
    "                dataset_train, dataset_val,\n",
    "                C=C, kernel=kernel, vec=vectorizer\n",
    "            )\n",
    "            print(f\"[SVM {vectorizer} {kernel} {C:.2f}] acc: {metrics['accuracy']:,4f}\")\n",
    "            save_metrics(metrics, TIKTOK_SVM_METRICS_PATH) # Guardar Pipeline\n",
    "            if metrics['accuracy'] > best_accuracy:\n",
    "                best_accuracy = metrics['accuracy']\n",
    "                save_model(pipeline, SVM_PIPELINE_PATH)"
   ]
  },
  {
   "cell_type": "markdown",
   "metadata": {},
   "source": [
    "## Modelo con mayor accuracy"
   ]
  },
  {
   "cell_type": "code",
   "execution_count": 6,
   "metadata": {},
   "outputs": [
    {
     "data": {
      "text/plain": [
       "accuracy           0.697757\n",
       "recall             0.697757\n",
       "precision          0.702389\n",
       "f1_score            0.69949\n",
       "model                   SVM\n",
       "vectorizer              BOW\n",
       "regularization     0.749894\n",
       "kernel               LINEAR\n",
       "vocab_size             9466\n",
       "train_time        21.524396\n",
       "Name: 13, dtype: object"
      ]
     },
     "metadata": {},
     "output_type": "display_data"
    }
   ],
   "source": [
    "# Seleccionar los hiperparámetros que generan mayor accuracy\n",
    "df_metrics = pd.read_csv(TIKTOK_SVM_METRICS_PATH)\n",
    "\n",
    "best_acc = df_metrics.loc[df_metrics['accuracy'].idxmax()]\n",
    "display(best_acc)"
   ]
  },
  {
   "cell_type": "code",
   "execution_count": 7,
   "metadata": {},
   "outputs": [
    {
     "name": "stdout",
     "output_type": "stream",
     "text": [
      "Cargando modelo: c:\\Users\\Diego\\Desktop\\sentiment_analysis\\models\\tiktok\\classifiers\\svm_pipeline.pkl\n",
      "\n",
      "Support Vector Machine\n",
      "Reporte de clasificacion\n",
      "              precision    recall  f1-score   support\n",
      "\n",
      "           0       0.70      0.74      0.71       617\n",
      "           1       0.68      0.61      0.64       719\n",
      "           2       0.75      0.78      0.76       625\n",
      "\n",
      "    accuracy                           0.71      1961\n",
      "   macro avg       0.71      0.71      0.71      1961\n",
      "weighted avg       0.70      0.71      0.70      1961\n",
      "\n",
      "Matriz de confusión\n"
     ]
    },
    {
     "data": {
      "image/png": "[encoded data removed]",
      "text/plain": [
       "<Figure size 640x480 with 2 Axes>"
      ]
     },
     "metadata": {},
     "output_type": "display_data"
    },
    {
     "data": {
      "text/plain": [
       "{'accuracy': 0.7057623661397247,\n",
       " 'recall': 0.705757009520866,\n",
       " 'precision': 0.710453724897041,\n",
       " 'f1_score': 0.7073007974646255}"
      ]
     },
     "metadata": {},
     "output_type": "display_data"
    }
   ],
   "source": [
    "from src.trainers.utils import load_model\n",
    "from src.trainers.utils import evaluate_model\n",
    "\n",
    "# Evaluar modelo con datos de prueba\n",
    "pipeline = load_model(SVM_PIPELINE_PATH)\n",
    "metrics = evaluate_model(pipeline, dataset_test, title=\"Support Vector Machine\")\n",
    "display(metrics)"
   ]
  },
  {
   "cell_type": "markdown",
   "metadata": {},
   "source": [
    "## Test"
   ]
  },
  {
   "cell_type": "code",
   "execution_count": 13,
   "metadata": {},
   "outputs": [
    {
     "name": "stdout",
     "output_type": "stream",
     "text": [
      "Modelo cargado: es_core_news_sm\n",
      "Aplicando stemming...\n",
      "Total de documentos preprocesados: 5\n",
      "hol estar: NEU\n",
      "feliz content: POS\n",
      "trist: NEG\n",
      "encontr estudi exam: NEU\n",
      "encontr trist mayor tiemp feliz: NEG\n"
     ]
    }
   ],
   "source": [
    "from constants.constants_nlp import INDEX_TO_POLARITY\n",
    "from src.preprocesamiento.clean import clean_text\n",
    "from src.preprocesamiento.nlp_spacy import preprocesamiento\n",
    "\n",
    "textos_test = [\"Hola! cómo estás???😀\",\"el dia de hoy estoy feliz y contento\", \"estoy muy triste\", \"Me encuentro estudiando para un exámen\", \"A veces me encuentro triste, pero la mayoria del tiempo estoy muy feliz\"]\n",
    "textos_test = list(map(lambda x: clean_text(x), textos_test))\n",
    "textos_test = preprocesamiento(textos_test)\n",
    "\n",
    "preds = pipeline.predict(textos_test)\n",
    "for input, pred in zip(textos_test,preds):\n",
    "    print(f\"{input}: {INDEX_TO_POLARITY[pred]}\")"
   ]
  }
 ],
 "metadata": {
  "kernelspec": {
   "display_name": "tensorflow_pytorch",
   "language": "python",
   "name": "python3"
  },
  "language_info": {
   "codemirror_mode": {
    "name": "ipython",
    "version": 3
   },
   "file_extension": ".py",
   "mimetype": "text/x-python",
   "name": "python",
   "nbconvert_exporter": "python",
   "pygments_lexer": "ipython3",
   "version": "3.11.11"
  }
 },
 "nbformat": 4,
 "nbformat_minor": 2
}
