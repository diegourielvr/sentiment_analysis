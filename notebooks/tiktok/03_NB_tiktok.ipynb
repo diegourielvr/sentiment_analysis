{
 "cells": [
  {
   "cell_type": "markdown",
   "metadata": {},
   "source": [
    "# NB - Tiktok"
   ]
  },
  {
   "cell_type": "code",
   "execution_count": 2,
   "metadata": {},
   "outputs": [],
   "source": [
    "import sys\n",
    "import os\n",
    "import pandas as pd\n",
    "\n",
    "# Agregar el directorio raiz al PYTHONPATH\n",
    "module_path = os.path.abspath(os.path.join('../..'))\n",
    "if module_path not in sys.path:\n",
    "    sys.path.append(module_path)"
   ]
  },
  {
   "cell_type": "markdown",
   "metadata": {},
   "source": [
    "Importar modelo NB y cargar datos"
   ]
  },
  {
   "cell_type": "code",
   "execution_count": 3,
   "metadata": {},
   "outputs": [
    {
     "name": "stdout",
     "output_type": "stream",
     "text": [
      "(13727, 2)\n",
      "(2942, 2)\n",
      "(2942, 2)\n"
     ]
    }
   ],
   "source": [
    "from src.trainers.train_nb import train_nb\n",
    "from src.trainers.utils import build_datasets, save_metrics\n",
    "from constants.constants_tiktok import TIKTOK_DATASET_SENTENCES, TIKTOK_NB_METRICS_PATH\n",
    "\n",
    "dataset_train, dataset_test, dataset_val = build_datasets(\n",
    "    TIKTOK_DATASET_SENTENCES,\n",
    "    test_size=0.3,\n",
    "    val_size=0.5, # 0.5 de 0.3    \n",
    "    random_state=42\n",
    ")\n",
    "print(dataset_train.shape)\n",
    "print(dataset_test.shape)\n",
    "print(dataset_val.shape)"
   ]
  },
  {
   "cell_type": "markdown",
   "metadata": {},
   "source": [
    "## Hiperparámetros"
   ]
  },
  {
   "cell_type": "code",
   "execution_count": 5,
   "metadata": {},
   "outputs": [
    {
     "name": "stdout",
     "output_type": "stream",
     "text": [
      "[0.0001     0.00014384 0.00020691 0.00029764 0.00042813 0.00061585\n",
      " 0.00088587 0.00127427 0.00183298 0.00263665 0.00379269 0.00545559\n",
      " 0.0078476  0.01128838 0.01623777 0.02335721 0.03359818 0.0483293\n",
      " 0.06951928 0.1       ]\n"
     ]
    }
   ],
   "source": [
    "import numpy as np\n",
    "\n",
    "list_vectorizers = [\"tfidf\", \"bow\"]\n",
    "list_alpha = np.logspace(-4, -1, 20)\n",
    "print(list_alpha)"
   ]
  },
  {
   "cell_type": "markdown",
   "metadata": {},
   "source": [
    "## Entrenar modelos"
   ]
  },
  {
   "cell_type": "code",
   "execution_count": 6,
   "metadata": {},
   "outputs": [
    {
     "name": "stdout",
     "output_type": "stream",
     "text": [
      "NB tfidf 0.0001: 0.6176070700203943\n",
      "Modelo guardado en: c:\\Users\\Diego\\Desktop\\sentiment_analysis\\models\\tiktok\\classifiers\\nb_pipeline.pkl\n",
      "NB tfidf 0.0001438449888287663: 0.6179469748470429\n",
      "Modelo guardado en: c:\\Users\\Diego\\Desktop\\sentiment_analysis\\models\\tiktok\\classifiers\\nb_pipeline.pkl\n",
      "NB tfidf 0.00020691380811147902: 0.6179469748470429\n",
      "NB tfidf 0.00029763514416313193: 0.6182868796736913\n",
      "Modelo guardado en: c:\\Users\\Diego\\Desktop\\sentiment_analysis\\models\\tiktok\\classifiers\\nb_pipeline.pkl\n",
      "NB tfidf 0.00042813323987193956: 0.6182868796736913\n",
      "NB tfidf 0.0006158482110660267: 0.6186267845003399\n",
      "Modelo guardado en: c:\\Users\\Diego\\Desktop\\sentiment_analysis\\models\\tiktok\\classifiers\\nb_pipeline.pkl\n",
      "NB tfidf 0.0008858667904100823: 0.619306594153637\n",
      "Modelo guardado en: c:\\Users\\Diego\\Desktop\\sentiment_analysis\\models\\tiktok\\classifiers\\nb_pipeline.pkl\n",
      "NB tfidf 0.0012742749857031334: 0.619306594153637\n",
      "NB tfidf 0.0018329807108324356: 0.6189666893269884\n",
      "NB tfidf 0.0026366508987303583: 0.6206662134602311\n",
      "Modelo guardado en: c:\\Users\\Diego\\Desktop\\sentiment_analysis\\models\\tiktok\\classifiers\\nb_pipeline.pkl\n",
      "NB tfidf 0.00379269019073225: 0.6216859279401767\n",
      "Modelo guardado en: c:\\Users\\Diego\\Desktop\\sentiment_analysis\\models\\tiktok\\classifiers\\nb_pipeline.pkl\n",
      "NB tfidf 0.005455594781168515: 0.6220258327668253\n",
      "Modelo guardado en: c:\\Users\\Diego\\Desktop\\sentiment_analysis\\models\\tiktok\\classifiers\\nb_pipeline.pkl\n",
      "NB tfidf 0.007847599703514606: 0.6240652617267165\n",
      "Modelo guardado en: c:\\Users\\Diego\\Desktop\\sentiment_analysis\\models\\tiktok\\classifiers\\nb_pipeline.pkl\n",
      "NB tfidf 0.011288378916846883: 0.6240652617267165\n",
      "NB tfidf 0.01623776739188721: 0.6291638341264446\n",
      "Modelo guardado en: c:\\Users\\Diego\\Desktop\\sentiment_analysis\\models\\tiktok\\classifiers\\nb_pipeline.pkl\n",
      "NB tfidf 0.023357214690901212: 0.6332426920462271\n",
      "Modelo guardado en: c:\\Users\\Diego\\Desktop\\sentiment_analysis\\models\\tiktok\\classifiers\\nb_pipeline.pkl\n",
      "NB tfidf 0.03359818286283781: 0.6346023113528212\n",
      "Modelo guardado en: c:\\Users\\Diego\\Desktop\\sentiment_analysis\\models\\tiktok\\classifiers\\nb_pipeline.pkl\n",
      "NB tfidf 0.04832930238571752: 0.637661454792658\n",
      "Modelo guardado en: c:\\Users\\Diego\\Desktop\\sentiment_analysis\\models\\tiktok\\classifiers\\nb_pipeline.pkl\n",
      "NB tfidf 0.06951927961775606: 0.6447994561522774\n",
      "Modelo guardado en: c:\\Users\\Diego\\Desktop\\sentiment_analysis\\models\\tiktok\\classifiers\\nb_pipeline.pkl\n",
      "NB tfidf 0.1: 0.6488783140720599\n",
      "Modelo guardado en: c:\\Users\\Diego\\Desktop\\sentiment_analysis\\models\\tiktok\\classifiers\\nb_pipeline.pkl\n",
      "NB bow 0.0001: 0.619306594153637\n",
      "NB bow 0.0001438449888287663: 0.619306594153637\n",
      "NB bow 0.00020691380811147902: 0.6196464989802856\n",
      "NB bow 0.00029763514416313193: 0.6196464989802856\n",
      "NB bow 0.00042813323987193956: 0.619986403806934\n",
      "NB bow 0.0006158482110660267: 0.6203263086335826\n",
      "NB bow 0.0008858667904100823: 0.6206662134602311\n",
      "NB bow 0.0012742749857031334: 0.6210061182868797\n",
      "NB bow 0.0018329807108324356: 0.6213460231135283\n",
      "NB bow 0.0026366508987303583: 0.6216859279401767\n",
      "NB bow 0.00379269019073225: 0.6230455472467709\n",
      "NB bow 0.005455594781168515: 0.6233854520734194\n",
      "NB bow 0.007847599703514606: 0.6240652617267165\n",
      "NB bow 0.011288378916846883: 0.6257647858599592\n",
      "NB bow 0.01623776739188721: 0.6271244051665533\n",
      "NB bow 0.023357214690901212: 0.628823929299796\n",
      "NB bow 0.03359818286283781: 0.6315431679129844\n",
      "NB bow 0.04832930238571752: 0.6329027872195785\n",
      "NB bow 0.06951927961775606: 0.6349422161794698\n",
      "NB bow 0.1: 0.6356220258327668\n"
     ]
    }
   ],
   "source": [
    "from constants.constants_tiktok import NB_PIPELINE_PATH\n",
    "from src.trainers.utils import save_model\n",
    "\n",
    "best_accuracy = -1\n",
    "for vectorizer in list_vectorizers:\n",
    "    for alpha in list_alpha:\n",
    "        pipeline, metrics = train_nb(\n",
    "            dataset_train,\n",
    "            dataset_val,\n",
    "            alpha=alpha,\n",
    "            vec=vectorizer\n",
    "        )\n",
    "        print(f\"NB {vectorizer} {alpha}: {metrics['accuracy']}\")\n",
    "        save_metrics(metrics, TIKTOK_NB_METRICS_PATH)\n",
    "        if metrics['accuracy'] > best_accuracy:\n",
    "            best_accuracy = metrics['accuracy']\n",
    "            save_model(pipeline, NB_PIPELINE_PATH)"
   ]
  },
  {
   "cell_type": "markdown",
   "metadata": {},
   "source": [
    "## Modelo con mayor accuracy"
   ]
  },
  {
   "cell_type": "code",
   "execution_count": 7,
   "metadata": {},
   "outputs": [
    {
     "name": "stdout",
     "output_type": "stream",
     "text": [
      "accuracy      0.648878\n",
      "recall        0.648888\n",
      "precision     0.645287\n",
      "f1_score      0.646033\n",
      "model               NB\n",
      "vectorizer       tfidf\n",
      "alpha              0.1\n",
      "vocab_size        9046\n",
      "train_time    0.140773\n",
      "Name: 19, dtype: object\n"
     ]
    }
   ],
   "source": [
    "# Seleccionar los hiperparámetros que generan mayor accuracy\n",
    "df_metrics = pd.read_csv(TIKTOK_NB_METRICS_PATH)\n",
    "\n",
    "best_acc = df_metrics.loc[df_metrics['accuracy'].idxmax()]\n",
    "print(best_acc)"
   ]
  },
  {
   "cell_type": "code",
   "execution_count": 8,
   "metadata": {},
   "outputs": [
    {
     "name": "stdout",
     "output_type": "stream",
     "text": [
      "Cargando modelo: c:\\Users\\Diego\\Desktop\\sentiment_analysis\\models\\tiktok\\classifiers\\nb_pipeline.pkl\n",
      "\n",
      "Naive Bayes\n",
      "Reporte de clasificacion\n",
      "              precision    recall  f1-score   support\n",
      "\n",
      "           0       0.68      0.64      0.66      1043\n",
      "           1       0.48      0.55      0.51       850\n",
      "           2       0.74      0.69      0.72      1049\n",
      "\n",
      "    accuracy                           0.63      2942\n",
      "   macro avg       0.63      0.63      0.63      2942\n",
      "weighted avg       0.64      0.63      0.64      2942\n",
      "\n",
      "Matriz de confusión\n"
     ]
    },
    {
     "data": {
      "image/png": "[encoded data removed]",
      "text/plain": [
       "<Figure size 640x480 with 2 Axes>"
      ]
     },
     "metadata": {},
     "output_type": "display_data"
    },
    {
     "name": "stdout",
     "output_type": "stream",
     "text": [
      "{'accuracy': 0.6346023113528212, 'recall': 0.6345496404474124, 'precision': 0.6294533081209016, 'f1_score': 0.6306575652632133}\n"
     ]
    }
   ],
   "source": [
    "from src.trainers.utils import evaluate_model\n",
    "from src.trainers.utils import load_model\n",
    "\n",
    "# Evaluar modelo con datos de prueba\n",
    "pipeline = load_model(NB_PIPELINE_PATH)\n",
    "metrics = evaluate_model(pipeline, dataset_test, title=\"Naive Bayes\")\n",
    "print(metrics)"
   ]
  },
  {
   "cell_type": "markdown",
   "metadata": {},
   "source": [
    "## Test"
   ]
  },
  {
   "cell_type": "code",
   "execution_count": 9,
   "metadata": {},
   "outputs": [
    {
     "name": "stdout",
     "output_type": "stream",
     "text": [
      "Modelo cargado: es_core_news_sm\n",
      "Aplicando stemming...\n",
      "Total de documentos preprocesados: 5\n",
      "hol estar: NEU\n",
      "feliz content: POS\n",
      "trist: NEG\n",
      "encontr estudi exam: NEU\n",
      "encontr trist mayor tiemp feliz: NEG\n"
     ]
    }
   ],
   "source": [
    "from constants.constants_nlp import INDEX_TO_POLARITY\n",
    "from src.preprocesamiento.clean import clean_text\n",
    "from src.preprocesamiento.nlp_spacy import preprocesamiento\n",
    "\n",
    "textos_test = [\"Hola! cómo estás???😀\",\"el dia de hoy estoy feliz y contento\", \"estoy muy triste\", \"Me encuentro estudiando para un exámen\", \"A veces me encuentro triste, pero la mayoria del tiempo estoy muy feliz\"]\n",
    "textos_test = list(map(lambda x: clean_text(x), textos_test))\n",
    "textos_test = preprocesamiento(textos_test)\n",
    "\n",
    "preds = pipeline.predict(textos_test)\n",
    "for input, pred in zip(textos_test,preds):\n",
    "    print(f\"{input}: {INDEX_TO_POLARITY[pred]}\")"
   ]
  }
 ],
 "metadata": {
  "kernelspec": {
   "display_name": "tensorflow_pytorch",
   "language": "python",
   "name": "python3"
  },
  "language_info": {
   "codemirror_mode": {
    "name": "ipython",
    "version": 3
   },
   "file_extension": ".py",
   "mimetype": "text/x-python",
   "name": "python",
   "nbconvert_exporter": "python",
   "pygments_lexer": "ipython3",
   "version": "3.11.11"
  }
 },
 "nbformat": 4,
 "nbformat_minor": 2
}
