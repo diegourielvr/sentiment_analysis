{
 "cells": [
  {
   "cell_type": "markdown",
   "metadata": {},
   "source": [
    "# NB - Tiktok"
   ]
  },
  {
   "cell_type": "code",
   "execution_count": 2,
   "metadata": {},
   "outputs": [],
   "source": [
    "import sys\n",
    "import os\n",
    "import pandas as pd\n",
    "\n",
    "# Agregar el directorio raiz al PYTHONPATH\n",
    "module_path = os.path.abspath(os.path.join('../..'))\n",
    "if module_path not in sys.path:\n",
    "    sys.path.append(module_path)"
   ]
  },
  {
   "cell_type": "markdown",
   "metadata": {},
   "source": [
    "Importar modelo NB y cargar datos"
   ]
  },
  {
   "cell_type": "code",
   "execution_count": 3,
   "metadata": {},
   "outputs": [
    {
     "name": "stdout",
     "output_type": "stream",
     "text": [
      "Train: 20.32%\n",
      "Test: 4.36%\n",
      "Val: 4.36%\n",
      "(13727, 2)\n",
      "(2942, 2)\n",
      "(2942, 2)\n"
     ]
    }
   ],
   "source": [
    "from src.trainers.utils import build_datasets\n",
    "from constants.constants_tiktok import TIKTOK_DATASET_SENTENCES\n",
    "\n",
    "dataset_train, dataset_test, dataset_val = build_datasets(\n",
    "    TIKTOK_DATASET_SENTENCES,\n",
    "    test_size=0.3,\n",
    "    val_size=0.5,\n",
    "    random_state=42,\n",
    "    undersampling=True\n",
    ")\n",
    "print(dataset_train.shape)\n",
    "print(dataset_test.shape)\n",
    "print(dataset_val.shape)"
   ]
  },
  {
   "cell_type": "markdown",
   "metadata": {},
   "source": [
    "## Hiperparámetros"
   ]
  },
  {
   "cell_type": "code",
   "execution_count": 3,
   "metadata": {},
   "outputs": [
    {
     "name": "stdout",
     "output_type": "stream",
     "text": [
      "[1.00000000e-03 1.62377674e-03 2.63665090e-03 4.28133240e-03\n",
      " 6.95192796e-03 1.12883789e-02 1.83298071e-02 2.97635144e-02\n",
      " 4.83293024e-02 7.84759970e-02 1.27427499e-01 2.06913808e-01\n",
      " 3.35981829e-01 5.45559478e-01 8.85866790e-01 1.43844989e+00\n",
      " 2.33572147e+00 3.79269019e+00 6.15848211e+00 1.00000000e+01]\n"
     ]
    }
   ],
   "source": [
    "import numpy as np\n",
    "\n",
    "list_vectorizers = [\"tfidf\", \"bow\"]\n",
    "list_alpha = np.logspace(-3, 1, 20)\n",
    "print(list_alpha)"
   ]
  },
  {
   "cell_type": "markdown",
   "metadata": {},
   "source": [
    "## Entrenar modelos"
   ]
  },
  {
   "cell_type": "code",
   "execution_count": null,
   "metadata": {},
   "outputs": [
    {
     "name": "stdout",
     "output_type": "stream",
     "text": [
      "[NB tfidf 0.00] acc: 0.6125\n",
      "Modelo guardado en: c:\\Users\\Diego\\Desktop\\sentiment_analysis\\models\\tiktok\\classifiers\\nb_pipeline.pkl\n",
      "[NB tfidf 0.00] acc: 0.6139\n",
      "Modelo guardado en: c:\\Users\\Diego\\Desktop\\sentiment_analysis\\models\\tiktok\\classifiers\\nb_pipeline.pkl\n",
      "[NB tfidf 0.00] acc: 0.6149\n",
      "Modelo guardado en: c:\\Users\\Diego\\Desktop\\sentiment_analysis\\models\\tiktok\\classifiers\\nb_pipeline.pkl\n",
      "[NB tfidf 0.00] acc: 0.6162\n",
      "Modelo guardado en: c:\\Users\\Diego\\Desktop\\sentiment_analysis\\models\\tiktok\\classifiers\\nb_pipeline.pkl\n",
      "[NB tfidf 0.01] acc: 0.6173\n",
      "Modelo guardado en: c:\\Users\\Diego\\Desktop\\sentiment_analysis\\models\\tiktok\\classifiers\\nb_pipeline.pkl\n",
      "[NB tfidf 0.01] acc: 0.6220\n",
      "Modelo guardado en: c:\\Users\\Diego\\Desktop\\sentiment_analysis\\models\\tiktok\\classifiers\\nb_pipeline.pkl\n",
      "[NB tfidf 0.02] acc: 0.6261\n",
      "Modelo guardado en: c:\\Users\\Diego\\Desktop\\sentiment_analysis\\models\\tiktok\\classifiers\\nb_pipeline.pkl\n",
      "[NB tfidf 0.03] acc: 0.6281\n",
      "Modelo guardado en: c:\\Users\\Diego\\Desktop\\sentiment_analysis\\models\\tiktok\\classifiers\\nb_pipeline.pkl\n",
      "[NB tfidf 0.05] acc: 0.6288\n",
      "Modelo guardado en: c:\\Users\\Diego\\Desktop\\sentiment_analysis\\models\\tiktok\\classifiers\\nb_pipeline.pkl\n",
      "[NB tfidf 0.08] acc: 0.6312\n",
      "Modelo guardado en: c:\\Users\\Diego\\Desktop\\sentiment_analysis\\models\\tiktok\\classifiers\\nb_pipeline.pkl\n",
      "[NB tfidf 0.13] acc: 0.6397\n",
      "Modelo guardado en: c:\\Users\\Diego\\Desktop\\sentiment_analysis\\models\\tiktok\\classifiers\\nb_pipeline.pkl\n",
      "[NB tfidf 0.21] acc: 0.6455\n",
      "Modelo guardado en: c:\\Users\\Diego\\Desktop\\sentiment_analysis\\models\\tiktok\\classifiers\\nb_pipeline.pkl\n",
      "[NB tfidf 0.34] acc: 0.6550\n",
      "Modelo guardado en: c:\\Users\\Diego\\Desktop\\sentiment_analysis\\models\\tiktok\\classifiers\\nb_pipeline.pkl\n",
      "[NB tfidf 0.55] acc: 0.6618\n",
      "Modelo guardado en: c:\\Users\\Diego\\Desktop\\sentiment_analysis\\models\\tiktok\\classifiers\\nb_pipeline.pkl\n",
      "[NB tfidf 0.89] acc: 0.6642\n",
      "Modelo guardado en: c:\\Users\\Diego\\Desktop\\sentiment_analysis\\models\\tiktok\\classifiers\\nb_pipeline.pkl\n",
      "[NB tfidf 1.44] acc: 0.6615\n",
      "[NB tfidf 2.34] acc: 0.6638\n",
      "[NB tfidf 3.79] acc: 0.6655\n",
      "Modelo guardado en: c:\\Users\\Diego\\Desktop\\sentiment_analysis\\models\\tiktok\\classifiers\\nb_pipeline.pkl\n",
      "[NB tfidf 6.16] acc: 0.6621\n",
      "[NB tfidf 10.00] acc: 0.6577\n",
      "[NB bow 0.00] acc: 0.6111\n",
      "[NB bow 0.00] acc: 0.6118\n",
      "[NB bow 0.00] acc: 0.6125\n",
      "[NB bow 0.00] acc: 0.6132\n",
      "[NB bow 0.01] acc: 0.6145\n",
      "[NB bow 0.01] acc: 0.6159\n",
      "[NB bow 0.02] acc: 0.6210\n",
      "[NB bow 0.03] acc: 0.6241\n",
      "[NB bow 0.05] acc: 0.6271\n",
      "[NB bow 0.08] acc: 0.6322\n",
      "[NB bow 0.13] acc: 0.6353\n",
      "[NB bow 0.21] acc: 0.6397\n",
      "[NB bow 0.34] acc: 0.6445\n",
      "[NB bow 0.55] acc: 0.6519\n",
      "[NB bow 0.89] acc: 0.6577\n",
      "[NB bow 1.44] acc: 0.6557\n",
      "[NB bow 2.34] acc: 0.6625\n",
      "[NB bow 3.79] acc: 0.6611\n",
      "[NB bow 6.16] acc: 0.6533\n",
      "[NB bow 10.00] acc: 0.6421\n"
     ]
    }
   ],
   "source": [
    "from src.trainers.train_nb import train_nb\n",
    "from src.trainers.utils import save_model, save_metrics\n",
    "from constants.constants_tiktok import NB_PIPELINE_PATH, TIKTOK_NB_METRICS_PATH\n",
    "\n",
    "best_accuracy = -1\n",
    "for vectorizer in list_vectorizers:\n",
    "    for alpha in list_alpha:\n",
    "        pipeline, metrics = train_nb(\n",
    "            dataset_train, dataset_val,\n",
    "            alpha=alpha, vec=vectorizer\n",
    "        )\n",
    "        print(f\"[NB {vectorizer} {alpha:.2f}] acc: {metrics['accuracy']:.4f}\")\n",
    "        save_metrics(metrics, TIKTOK_NB_METRICS_PATH)\n",
    "        if metrics['accuracy'] > best_accuracy:\n",
    "            best_accuracy = metrics['accuracy']\n",
    "            save_model(pipeline, NB_PIPELINE_PATH)"
   ]
  },
  {
   "cell_type": "markdown",
   "metadata": {},
   "source": [
    "## Modelo con mayor accuracy"
   ]
  },
  {
   "cell_type": "code",
   "execution_count": 5,
   "metadata": {},
   "outputs": [
    {
     "name": "stdout",
     "output_type": "stream",
     "text": [
      "accuracy      0.665534\n",
      "recall        0.665452\n",
      "precision     0.664144\n",
      "f1_score       0.65254\n",
      "model               NB\n",
      "vectorizer       tfidf\n",
      "alpha          3.79269\n",
      "vocab_size        9046\n",
      "train_time    0.130455\n",
      "Name: 17, dtype: object\n"
     ]
    }
   ],
   "source": [
    "# Seleccionar los hiperparámetros que generan mayor accuracy\n",
    "df_metrics = pd.read_csv(TIKTOK_NB_METRICS_PATH)\n",
    "\n",
    "best_acc = df_metrics.loc[df_metrics['accuracy'].idxmax()]\n",
    "print(best_acc)"
   ]
  },
  {
   "cell_type": "code",
   "execution_count": 5,
   "metadata": {},
   "outputs": [
    {
     "name": "stdout",
     "output_type": "stream",
     "text": [
      "Cargando modelo: c:\\Users\\Diego\\Desktop\\sentiment_analysis\\models\\tiktok\\classifiers\\nb_pipeline.pkl\n",
      "\n",
      "Naive Bayes\n",
      "Reporte de clasificacion\n",
      "              precision    recall  f1-score   support\n",
      "\n",
      "           0       0.72      0.67      0.69      1059\n",
      "           1       0.43      0.66      0.52       648\n",
      "           2       0.86      0.68      0.76      1235\n",
      "\n",
      "    accuracy                           0.67      2942\n",
      "   macro avg       0.67      0.67      0.66      2942\n",
      "weighted avg       0.71      0.67      0.68      2942\n",
      "\n",
      "Matriz de confusión\n"
     ]
    },
    {
     "data": {
      "image/png": "[encoded data removed]",
      "text/plain": [
       "<Figure size 640x480 with 2 Axes>"
      ]
     },
     "metadata": {},
     "output_type": "display_data"
    },
    {
     "data": {
      "text/plain": [
       "{'accuracy': 0.6706322229775663,\n",
       " 'recall': 0.6706498297586109,\n",
       " 'precision': 0.6684382916404189,\n",
       " 'f1_score': 0.658232847371207}"
      ]
     },
     "metadata": {},
     "output_type": "display_data"
    }
   ],
   "source": [
    "from src.trainers.utils import load_model\n",
    "from src.trainers.utils import evaluate_model\n",
    "from constants.constants_tiktok import NB_PIPELINE_PATH\n",
    "\n",
    "# Evaluar modelo con datos de prueba\n",
    "pipeline = load_model(NB_PIPELINE_PATH)\n",
    "metrics = evaluate_model(pipeline, dataset_test, title=\"Naive Bayes\")\n",
    "display(metrics)"
   ]
  },
  {
   "cell_type": "markdown",
   "metadata": {},
   "source": [
    "## Test"
   ]
  },
  {
   "cell_type": "code",
   "execution_count": 10,
   "metadata": {},
   "outputs": [
    {
     "name": "stdout",
     "output_type": "stream",
     "text": [
      "Modelo cargado: es_core_news_sm\n",
      "Aplicando stemming...\n",
      "Total de documentos preprocesados: 5\n",
      "hol estar: NEU\n",
      "feliz content: POS\n",
      "trist: NEG\n",
      "encontr estudi exam: NEU\n",
      "encontr trist mayor tiemp feliz: POS\n"
     ]
    }
   ],
   "source": [
    "from constants.constants_nlp import INDEX_TO_POLARITY\n",
    "from src.preprocesamiento.clean import clean_text\n",
    "from src.preprocesamiento.nlp_spacy import preprocesamiento\n",
    "\n",
    "textos_test = [\"Hola! cómo estás???😀\",\"el dia de hoy estoy feliz y contento\", \"estoy muy triste\", \"Me encuentro estudiando para un exámen\", \"A veces me encuentro triste, pero la mayoria del tiempo estoy muy feliz\"]\n",
    "textos_test = list(map(lambda x: clean_text(x), textos_test))\n",
    "textos_test = preprocesamiento(textos_test)\n",
    "\n",
    "preds = pipeline.predict(textos_test)\n",
    "for input, pred in zip(textos_test,preds):\n",
    "    print(f\"{input}: {INDEX_TO_POLARITY[pred]}\")"
   ]
  }
 ],
 "metadata": {
  "kernelspec": {
   "display_name": "tensorflow_pytorch",
   "language": "python",
   "name": "python3"
  },
  "language_info": {
   "codemirror_mode": {
    "name": "ipython",
    "version": 3
   },
   "file_extension": ".py",
   "mimetype": "text/x-python",
   "name": "python",
   "nbconvert_exporter": "python",
   "pygments_lexer": "ipython3",
   "version": "3.11.11"
  }
 },
 "nbformat": 4,
 "nbformat_minor": 2
}
