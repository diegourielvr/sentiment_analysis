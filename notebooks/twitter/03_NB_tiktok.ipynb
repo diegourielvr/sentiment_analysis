{
 "cells": [
  {
   "cell_type": "markdown",
   "metadata": {},
   "source": [
    "# NB - Tiktok"
   ]
  },
  {
   "cell_type": "code",
   "execution_count": 3,
   "metadata": {},
   "outputs": [],
   "source": [
    "import sys\n",
    "import os\n",
    "import pandas as pd\n",
    "\n",
    "# Agregar el directorio raiz al PYTHONPATH\n",
    "module_path = os.path.abspath(os.path.join('../..'))\n",
    "if module_path not in sys.path:\n",
    "    sys.path.append(module_path)"
   ]
  },
  {
   "cell_type": "markdown",
   "metadata": {},
   "source": [
    "Importar modelo NB y cargar datos"
   ]
  },
  {
   "cell_type": "code",
   "execution_count": 4,
   "metadata": {},
   "outputs": [
    {
     "name": "stdout",
     "output_type": "stream",
     "text": [
      "(36924, 2)\n",
      "(7913, 2)\n",
      "(7912, 2)\n"
     ]
    }
   ],
   "source": [
    "from src.trainers.train_nb import train_nb\n",
    "from src.trainers.utils import build_datasets, save_metrics\n",
    "from constants.constants_twitter import TWITTER_DATASET_TRAIN_PATH\n",
    "\n",
    "dataset_train, dataset_test, dataset_val = build_datasets(\n",
    "    TWITTER_DATASET_TRAIN_PATH,\n",
    "    test_size=0.3,\n",
    "    val_size=0.5, # 0.5 de 0.3    \n",
    "    random_state=42\n",
    ")\n",
    "print(dataset_train.shape)\n",
    "print(dataset_test.shape)\n",
    "print(dataset_val.shape)"
   ]
  },
  {
   "cell_type": "markdown",
   "metadata": {},
   "source": [
    "## Hiperparámetros"
   ]
  },
  {
   "cell_type": "code",
   "execution_count": 5,
   "metadata": {},
   "outputs": [
    {
     "name": "stdout",
     "output_type": "stream",
     "text": [
      "[0.0001     0.00014384 0.00020691 0.00029764 0.00042813 0.00061585\n",
      " 0.00088587 0.00127427 0.00183298 0.00263665 0.00379269 0.00545559\n",
      " 0.0078476  0.01128838 0.01623777 0.02335721 0.03359818 0.0483293\n",
      " 0.06951928 0.1       ]\n"
     ]
    }
   ],
   "source": [
    "import numpy as np\n",
    "\n",
    "list_vectorizers = [\"tfidf\", \"bow\"]\n",
    "list_alpha = np.logspace(-4, -1, 20)\n",
    "print(list_alpha)"
   ]
  },
  {
   "cell_type": "markdown",
   "metadata": {},
   "source": [
    "## Entrenar modelos"
   ]
  },
  {
   "cell_type": "code",
   "execution_count": 6,
   "metadata": {},
   "outputs": [
    {
     "name": "stdout",
     "output_type": "stream",
     "text": [
      "NB tfidf 0.0001: 0.8032103134479271\n",
      "Modelo guardado en: c:\\Users\\Diego\\Desktop\\sentiment_analysis\\models\\twitter\\classifiers\\nb_pipeline.pkl\n",
      "NB tfidf 0.0001438449888287663: 0.8033367037411526\n",
      "Modelo guardado en: c:\\Users\\Diego\\Desktop\\sentiment_analysis\\models\\twitter\\classifiers\\nb_pipeline.pkl\n",
      "NB tfidf 0.00020691380811147902: 0.8030839231547017\n",
      "Modelo guardado en: c:\\Users\\Diego\\Desktop\\sentiment_analysis\\models\\twitter\\classifiers\\nb_pipeline.pkl\n",
      "NB tfidf 0.00029763514416313193: 0.8032103134479271\n",
      "Modelo guardado en: c:\\Users\\Diego\\Desktop\\sentiment_analysis\\models\\twitter\\classifiers\\nb_pipeline.pkl\n",
      "NB tfidf 0.00042813323987193956: 0.8029575328614762\n",
      "Modelo guardado en: c:\\Users\\Diego\\Desktop\\sentiment_analysis\\models\\twitter\\classifiers\\nb_pipeline.pkl\n",
      "NB tfidf 0.0006158482110660267: 0.8030839231547017\n",
      "Modelo guardado en: c:\\Users\\Diego\\Desktop\\sentiment_analysis\\models\\twitter\\classifiers\\nb_pipeline.pkl\n",
      "NB tfidf 0.0008858667904100823: 0.8030839231547017\n",
      "Modelo guardado en: c:\\Users\\Diego\\Desktop\\sentiment_analysis\\models\\twitter\\classifiers\\nb_pipeline.pkl\n",
      "NB tfidf 0.0012742749857031334: 0.8028311425682507\n",
      "Modelo guardado en: c:\\Users\\Diego\\Desktop\\sentiment_analysis\\models\\twitter\\classifiers\\nb_pipeline.pkl\n",
      "NB tfidf 0.0018329807108324356: 0.8028311425682507\n",
      "Modelo guardado en: c:\\Users\\Diego\\Desktop\\sentiment_analysis\\models\\twitter\\classifiers\\nb_pipeline.pkl\n",
      "NB tfidf 0.0026366508987303583: 0.8028311425682507\n",
      "Modelo guardado en: c:\\Users\\Diego\\Desktop\\sentiment_analysis\\models\\twitter\\classifiers\\nb_pipeline.pkl\n",
      "NB tfidf 0.00379269019073225: 0.8025783619817998\n",
      "Modelo guardado en: c:\\Users\\Diego\\Desktop\\sentiment_analysis\\models\\twitter\\classifiers\\nb_pipeline.pkl\n",
      "NB tfidf 0.005455594781168515: 0.8025783619817998\n",
      "Modelo guardado en: c:\\Users\\Diego\\Desktop\\sentiment_analysis\\models\\twitter\\classifiers\\nb_pipeline.pkl\n",
      "NB tfidf 0.007847599703514606: 0.8019464105156724\n",
      "Modelo guardado en: c:\\Users\\Diego\\Desktop\\sentiment_analysis\\models\\twitter\\classifiers\\nb_pipeline.pkl\n",
      "NB tfidf 0.011288378916846883: 0.8024519716885743\n",
      "Modelo guardado en: c:\\Users\\Diego\\Desktop\\sentiment_analysis\\models\\twitter\\classifiers\\nb_pipeline.pkl\n",
      "NB tfidf 0.01623776739188721: 0.8027047522750252\n",
      "Modelo guardado en: c:\\Users\\Diego\\Desktop\\sentiment_analysis\\models\\twitter\\classifiers\\nb_pipeline.pkl\n",
      "NB tfidf 0.023357214690901212: 0.8019464105156724\n",
      "Modelo guardado en: c:\\Users\\Diego\\Desktop\\sentiment_analysis\\models\\twitter\\classifiers\\nb_pipeline.pkl\n",
      "NB tfidf 0.03359818286283781: 0.8005561172901922\n",
      "Modelo guardado en: c:\\Users\\Diego\\Desktop\\sentiment_analysis\\models\\twitter\\classifiers\\nb_pipeline.pkl\n",
      "NB tfidf 0.04832930238571752: 0.7990394337714863\n",
      "Modelo guardado en: c:\\Users\\Diego\\Desktop\\sentiment_analysis\\models\\twitter\\classifiers\\nb_pipeline.pkl\n",
      "NB tfidf 0.06951927961775606: 0.7970171890798786\n",
      "Modelo guardado en: c:\\Users\\Diego\\Desktop\\sentiment_analysis\\models\\twitter\\classifiers\\nb_pipeline.pkl\n",
      "NB tfidf 0.1: 0.7948685540950455\n",
      "Modelo guardado en: c:\\Users\\Diego\\Desktop\\sentiment_analysis\\models\\twitter\\classifiers\\nb_pipeline.pkl\n",
      "NB bow 0.0001: 0.7851365015166836\n",
      "Modelo guardado en: c:\\Users\\Diego\\Desktop\\sentiment_analysis\\models\\twitter\\classifiers\\nb_pipeline.pkl\n",
      "NB bow 0.0001438449888287663: 0.7853892821031345\n",
      "Modelo guardado en: c:\\Users\\Diego\\Desktop\\sentiment_analysis\\models\\twitter\\classifiers\\nb_pipeline.pkl\n",
      "NB bow 0.00020691380811147902: 0.7853892821031345\n",
      "Modelo guardado en: c:\\Users\\Diego\\Desktop\\sentiment_analysis\\models\\twitter\\classifiers\\nb_pipeline.pkl\n",
      "NB bow 0.00029763514416313193: 0.785262891809909\n",
      "Modelo guardado en: c:\\Users\\Diego\\Desktop\\sentiment_analysis\\models\\twitter\\classifiers\\nb_pipeline.pkl\n",
      "NB bow 0.00042813323987193956: 0.7853892821031345\n",
      "Modelo guardado en: c:\\Users\\Diego\\Desktop\\sentiment_analysis\\models\\twitter\\classifiers\\nb_pipeline.pkl\n",
      "NB bow 0.0006158482110660267: 0.7853892821031345\n",
      "Modelo guardado en: c:\\Users\\Diego\\Desktop\\sentiment_analysis\\models\\twitter\\classifiers\\nb_pipeline.pkl\n",
      "NB bow 0.0008858667904100823: 0.7848837209302325\n",
      "Modelo guardado en: c:\\Users\\Diego\\Desktop\\sentiment_analysis\\models\\twitter\\classifiers\\nb_pipeline.pkl\n",
      "NB bow 0.0012742749857031334: 0.7843781597573306\n",
      "Modelo guardado en: c:\\Users\\Diego\\Desktop\\sentiment_analysis\\models\\twitter\\classifiers\\nb_pipeline.pkl\n",
      "NB bow 0.0018329807108324356: 0.7839989888776542\n",
      "Modelo guardado en: c:\\Users\\Diego\\Desktop\\sentiment_analysis\\models\\twitter\\classifiers\\nb_pipeline.pkl\n",
      "NB bow 0.0026366508987303583: 0.7843781597573306\n",
      "Modelo guardado en: c:\\Users\\Diego\\Desktop\\sentiment_analysis\\models\\twitter\\classifiers\\nb_pipeline.pkl\n",
      "NB bow 0.00379269019073225: 0.7841253791708797\n",
      "Modelo guardado en: c:\\Users\\Diego\\Desktop\\sentiment_analysis\\models\\twitter\\classifiers\\nb_pipeline.pkl\n",
      "NB bow 0.005455594781168515: 0.7837462082912032\n",
      "Modelo guardado en: c:\\Users\\Diego\\Desktop\\sentiment_analysis\\models\\twitter\\classifiers\\nb_pipeline.pkl\n",
      "NB bow 0.007847599703514606: 0.7837462082912032\n",
      "Modelo guardado en: c:\\Users\\Diego\\Desktop\\sentiment_analysis\\models\\twitter\\classifiers\\nb_pipeline.pkl\n",
      "NB bow 0.011288378916846883: 0.7841253791708797\n",
      "Modelo guardado en: c:\\Users\\Diego\\Desktop\\sentiment_analysis\\models\\twitter\\classifiers\\nb_pipeline.pkl\n",
      "NB bow 0.01623776739188721: 0.7836198179979778\n",
      "Modelo guardado en: c:\\Users\\Diego\\Desktop\\sentiment_analysis\\models\\twitter\\classifiers\\nb_pipeline.pkl\n",
      "NB bow 0.023357214690901212: 0.7828614762386249\n",
      "Modelo guardado en: c:\\Users\\Diego\\Desktop\\sentiment_analysis\\models\\twitter\\classifiers\\nb_pipeline.pkl\n",
      "NB bow 0.03359818286283781: 0.782355915065723\n",
      "Modelo guardado en: c:\\Users\\Diego\\Desktop\\sentiment_analysis\\models\\twitter\\classifiers\\nb_pipeline.pkl\n",
      "NB bow 0.04832930238571752: 0.7819767441860465\n",
      "Modelo guardado en: c:\\Users\\Diego\\Desktop\\sentiment_analysis\\models\\twitter\\classifiers\\nb_pipeline.pkl\n",
      "NB bow 0.06951927961775606: 0.7794489383215369\n",
      "Modelo guardado en: c:\\Users\\Diego\\Desktop\\sentiment_analysis\\models\\twitter\\classifiers\\nb_pipeline.pkl\n",
      "NB bow 0.1: 0.7776794742163802\n",
      "Modelo guardado en: c:\\Users\\Diego\\Desktop\\sentiment_analysis\\models\\twitter\\classifiers\\nb_pipeline.pkl\n"
     ]
    }
   ],
   "source": [
    "from constants.constants_twitter import NB_PIPELINE_PATH, TWITTER_NB_METRICS_PATH\n",
    "from src.trainers.utils import save_model\n",
    "\n",
    "best_accuracy = -1\n",
    "for vectorizer in list_vectorizers:\n",
    "    for alpha in list_alpha:\n",
    "        pipeline, metrics = train_nb(\n",
    "            dataset_train,\n",
    "            dataset_val,\n",
    "            alpha=alpha,\n",
    "            vec=vectorizer\n",
    "        )\n",
    "        print(f\"NB {vectorizer} {alpha}: {metrics['accuracy']}\")\n",
    "        save_metrics(metrics, TWITTER_NB_METRICS_PATH)\n",
    "        if metrics['accuracy'] > best_accuracy:\n",
    "            save_model(pipeline, NB_PIPELINE_PATH)\n",
    "            "
   ]
  },
  {
   "cell_type": "markdown",
   "metadata": {},
   "source": [
    "## Modelo con mayor accuracy"
   ]
  },
  {
   "cell_type": "code",
   "execution_count": 7,
   "metadata": {},
   "outputs": [
    {
     "name": "stdout",
     "output_type": "stream",
     "text": [
      "accuracy      0.803337\n",
      "recall        0.803335\n",
      "precision     0.804112\n",
      "f1_score      0.803205\n",
      "model               NB\n",
      "vectorizer       tfidf\n",
      "alpha         0.000144\n",
      "vocab_size       11819\n",
      "train_time    0.413751\n",
      "Name: 1, dtype: object\n"
     ]
    }
   ],
   "source": [
    "# Seleccionar los hiperparámetros que generan mayor accuracy\n",
    "df_metrics = pd.read_csv(TWITTER_NB_METRICS_PATH)\n",
    "\n",
    "best_acc = df_metrics.loc[df_metrics['accuracy'].idxmax()]\n",
    "print(best_acc)"
   ]
  },
  {
   "cell_type": "code",
   "execution_count": 8,
   "metadata": {},
   "outputs": [
    {
     "name": "stdout",
     "output_type": "stream",
     "text": [
      "Cargando modelo: c:\\Users\\Diego\\Desktop\\sentiment_analysis\\models\\twitter\\classifiers\\nb_pipeline.pkl\n",
      "\n",
      "Naive Bayes\n",
      "Reporte de clasificacion\n",
      "              precision    recall  f1-score   support\n",
      "\n",
      "           0       0.81      0.75      0.78      2834\n",
      "           1       0.71      0.81      0.75      2306\n",
      "           2       0.80      0.76      0.78      2773\n",
      "\n",
      "    accuracy                           0.77      7913\n",
      "   macro avg       0.77      0.77      0.77      7913\n",
      "weighted avg       0.77      0.77      0.77      7913\n",
      "\n",
      "Matriz de confusión\n"
     ]
    },
    {
     "data": {
      "image/png": "[encoded data removed]",
      "text/plain": [
       "<Figure size 640x480 with 2 Axes>"
      ]
     },
     "metadata": {},
     "output_type": "display_data"
    },
    {
     "data": {
      "text/plain": [
       "{'accuracy': 0.7705042335397447,\n",
       " 'recall': 0.770509129762313,\n",
       " 'precision': 0.7727801237697073,\n",
       " 'f1_score': 0.7700068548601888}"
      ]
     },
     "metadata": {},
     "output_type": "display_data"
    }
   ],
   "source": [
    "from src.trainers.utils import evaluate_model\n",
    "from src.trainers.utils import load_model\n",
    "\n",
    "# Evaluar modelo con datos de prueba\n",
    "pipeline = load_model(NB_PIPELINE_PATH)\n",
    "metrics = evaluate_model(pipeline, dataset_test, title=\"Naive Bayes\")\n",
    "display(metrics)"
   ]
  },
  {
   "cell_type": "markdown",
   "metadata": {},
   "source": [
    "## Test"
   ]
  },
  {
   "cell_type": "code",
   "execution_count": null,
   "metadata": {},
   "outputs": [
    {
     "name": "stdout",
     "output_type": "stream",
     "text": [
      "Modelo cargado: en_core_web_sm\n",
      "Aplicando stemming...\n",
      "Total de documentos preprocesados: 3\n",
      "m studi hard: NEU\n",
      "m happi: POS\n",
      "sorri: NEU\n"
     ]
    }
   ],
   "source": [
    "from constants.constants_nlp import INDEX_TO_POLARITY\n",
    "from src.preprocesamiento.clean import clean_text\n",
    "from src.preprocesamiento.nlp_spacy import preprocesamiento\n",
    "\n",
    "textos_test = [\"i'm study hard\", \"i'm happy\"]\n",
    "textos_test = list(map(lambda x: clean_text(x, \"en\"), textos_test))\n",
    "textos_test = preprocesamiento(textos_test, stemming=True, lang=\"en\")\n",
    "\n",
    "preds = pipeline.predict(textos_test)\n",
    "for input, pred in zip(textos_test,preds):\n",
    "    print(f\"{input}: {INDEX_TO_POLARITY[pred]}\")"
   ]
  }
 ],
 "metadata": {
  "kernelspec": {
   "display_name": "tensorflow_pytorch",
   "language": "python",
   "name": "python3"
  },
  "language_info": {
   "codemirror_mode": {
    "name": "ipython",
    "version": 3
   },
   "file_extension": ".py",
   "mimetype": "text/x-python",
   "name": "python",
   "nbconvert_exporter": "python",
   "pygments_lexer": "ipython3",
   "version": "3.11.11"
  }
 },
 "nbformat": 4,
 "nbformat_minor": 2
}
