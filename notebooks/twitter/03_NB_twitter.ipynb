{
 "cells": [
  {
   "cell_type": "markdown",
   "metadata": {},
   "source": [
    "# NB - Twitter "
   ]
  },
  {
   "cell_type": "code",
   "execution_count": 8,
   "metadata": {},
   "outputs": [],
   "source": [
    "import sys\n",
    "import os\n",
    "import pandas as pd\n",
    "\n",
    "# Agregar el directorio raiz al PYTHONPATH\n",
    "module_path = os.path.abspath(os.path.join('../..'))\n",
    "if module_path not in sys.path:\n",
    "    sys.path.append(module_path)"
   ]
  },
  {
   "cell_type": "markdown",
   "metadata": {},
   "source": [
    "Importar modelo NB y cargar datos"
   ]
  },
  {
   "cell_type": "code",
   "execution_count": 9,
   "metadata": {},
   "outputs": [
    {
     "name": "stdout",
     "output_type": "stream",
     "text": [
      "Train: 62.08%\n",
      "Test: 13.30%\n",
      "Val: 13.30%\n",
      "(36924, 2)\n",
      "(7912, 2)\n",
      "(7913, 2)\n"
     ]
    }
   ],
   "source": [
    "from src.trainers.train_nb import train_nb\n",
    "from src.trainers.utils import build_datasets, save_metrics\n",
    "from constants.constants_twitter import TWITTER_DATASET_TRAIN_PATH\n",
    "\n",
    "dataset_train, dataset_test, dataset_val = build_datasets(\n",
    "    TWITTER_DATASET_TRAIN_PATH,\n",
    "    test_size=0.3,\n",
    "    val_size=0.5, # 0.5 de 0.3    \n",
    "    random_state=42\n",
    ")\n",
    "print(dataset_train.shape)\n",
    "print(dataset_test.shape)\n",
    "print(dataset_val.shape)"
   ]
  },
  {
   "cell_type": "markdown",
   "metadata": {},
   "source": [
    "## Hiperparámetros"
   ]
  },
  {
   "cell_type": "code",
   "execution_count": 10,
   "metadata": {},
   "outputs": [
    {
     "name": "stdout",
     "output_type": "stream",
     "text": [
      "[1.00000000e-04 1.83298071e-04 3.35981829e-04 6.15848211e-04\n",
      " 1.12883789e-03 2.06913808e-03 3.79269019e-03 6.95192796e-03\n",
      " 1.27427499e-02 2.33572147e-02 4.28133240e-02 7.84759970e-02\n",
      " 1.43844989e-01 2.63665090e-01 4.83293024e-01 8.85866790e-01\n",
      " 1.62377674e+00 2.97635144e+00 5.45559478e+00 1.00000000e+01]\n"
     ]
    }
   ],
   "source": [
    "import numpy as np\n",
    "\n",
    "list_vectorizers = [\"tfidf\", \"bow\"]\n",
    "list_alpha = np.logspace(-4, 1, 20)\n",
    "print(list_alpha)"
   ]
  },
  {
   "cell_type": "markdown",
   "metadata": {},
   "source": [
    "## Entrenar modelos"
   ]
  },
  {
   "cell_type": "code",
   "execution_count": 11,
   "metadata": {},
   "outputs": [
    {
     "name": "stdout",
     "output_type": "stream",
     "text": [
      "[NB tfidf 0.00010] acc: 0.7981\n",
      "Modelo guardado en: c:\\Users\\Diego\\Desktop\\sentiment_analysis\\models\\twitter\\classifiers\\nb_pipeline.pkl\n",
      "[NB tfidf 0.00018] acc: 0.7982\n",
      "Modelo guardado en: c:\\Users\\Diego\\Desktop\\sentiment_analysis\\models\\twitter\\classifiers\\nb_pipeline.pkl\n",
      "[NB tfidf 0.00034] acc: 0.7979\n",
      "[NB tfidf 0.00062] acc: 0.7978\n",
      "[NB tfidf 0.00113] acc: 0.7974\n",
      "[NB tfidf 0.00207] acc: 0.7974\n",
      "[NB tfidf 0.00379] acc: 0.7973\n",
      "[NB tfidf 0.00695] acc: 0.7984\n",
      "Modelo guardado en: c:\\Users\\Diego\\Desktop\\sentiment_analysis\\models\\twitter\\classifiers\\nb_pipeline.pkl\n",
      "[NB tfidf 0.01274] acc: 0.7977\n",
      "[NB tfidf 0.02336] acc: 0.7968\n",
      "[NB tfidf 0.04281] acc: 0.7948\n",
      "[NB tfidf 0.07848] acc: 0.7933\n",
      "[NB tfidf 0.14384] acc: 0.7887\n",
      "[NB tfidf 0.26367] acc: 0.7833\n",
      "[NB tfidf 0.48329] acc: 0.7739\n",
      "[NB tfidf 0.88587] acc: 0.7619\n",
      "[NB tfidf 1.62378] acc: 0.7508\n",
      "[NB tfidf 2.97635] acc: 0.7393\n",
      "[NB tfidf 5.45559] acc: 0.7270\n",
      "[NB tfidf 10.00000] acc: 0.7139\n",
      "[NB bow 0.00010] acc: 0.7782\n",
      "[NB bow 0.00018] acc: 0.7781\n",
      "[NB bow 0.00034] acc: 0.7783\n",
      "[NB bow 0.00062] acc: 0.7788\n",
      "[NB bow 0.00113] acc: 0.7790\n",
      "[NB bow 0.00207] acc: 0.7790\n",
      "[NB bow 0.00379] acc: 0.7794\n",
      "[NB bow 0.00695] acc: 0.7788\n",
      "[NB bow 0.01274] acc: 0.7780\n",
      "[NB bow 0.02336] acc: 0.7763\n",
      "[NB bow 0.04281] acc: 0.7740\n",
      "[NB bow 0.07848] acc: 0.7716\n",
      "[NB bow 0.14384] acc: 0.7675\n",
      "[NB bow 0.26367] acc: 0.7624\n",
      "[NB bow 0.48329] acc: 0.7564\n",
      "[NB bow 0.88587] acc: 0.7456\n",
      "[NB bow 1.62378] acc: 0.7363\n",
      "[NB bow 2.97635] acc: 0.7249\n",
      "[NB bow 5.45559] acc: 0.7133\n",
      "[NB bow 10.00000] acc: 0.7052\n"
     ]
    }
   ],
   "source": [
    "from constants.constants_twitter import NB_PIPELINE_PATH, TWITTER_NB_METRICS_PATH\n",
    "from src.trainers.utils import save_model\n",
    "\n",
    "best_accuracy = -1\n",
    "for vectorizer in list_vectorizers:\n",
    "    for alpha in list_alpha:\n",
    "        pipeline, metrics = train_nb(\n",
    "            dataset_train,\n",
    "            dataset_val,\n",
    "            alpha=alpha,\n",
    "            vec=vectorizer\n",
    "        )\n",
    "        print(f\"[NB {vectorizer} {alpha:.5f}] acc: {metrics['accuracy']:.4f}\")\n",
    "        save_metrics(metrics, TWITTER_NB_METRICS_PATH)\n",
    "        if metrics['accuracy'] > best_accuracy:\n",
    "            best_accuracy = metrics['accuracy']\n",
    "            save_model(pipeline, NB_PIPELINE_PATH)\n",
    "            "
   ]
  },
  {
   "cell_type": "markdown",
   "metadata": {},
   "source": [
    "## Modelo con mayor accuracy"
   ]
  },
  {
   "cell_type": "code",
   "execution_count": 12,
   "metadata": {},
   "outputs": [
    {
     "name": "stdout",
     "output_type": "stream",
     "text": [
      "accuracy      0.798433\n",
      "recall        0.798436\n",
      "precision     0.799726\n",
      "f1_score      0.798372\n",
      "model               NB\n",
      "vectorizer       tfidf\n",
      "alpha         0.006952\n",
      "vocab_size       11819\n",
      "train_time    0.490154\n",
      "Name: 7, dtype: object\n",
      "0.7984329584228484\n"
     ]
    }
   ],
   "source": [
    "# Seleccionar los hiperparámetros que generan mayor accuracy\n",
    "df_metrics = pd.read_csv(TWITTER_NB_METRICS_PATH)\n",
    "\n",
    "best_acc = df_metrics.loc[df_metrics['accuracy'].idxmax()]\n",
    "print(best_acc)\n",
    "print(best_accuracy)"
   ]
  },
  {
   "cell_type": "code",
   "execution_count": 13,
   "metadata": {},
   "outputs": [
    {
     "name": "stdout",
     "output_type": "stream",
     "text": [
      "Cargando modelo: c:\\Users\\Diego\\Desktop\\sentiment_analysis\\models\\twitter\\classifiers\\nb_pipeline.pkl\n",
      "\n",
      "Naive Bayes\n",
      "Reporte de clasificacion\n",
      "              precision    recall  f1-score   support\n",
      "\n",
      "           0       0.82      0.78      0.80      2749\n",
      "           1       0.76      0.82      0.79      2447\n",
      "           2       0.83      0.80      0.81      2716\n",
      "\n",
      "    accuracy                           0.80      7912\n",
      "   macro avg       0.80      0.80      0.80      7912\n",
      "weighted avg       0.80      0.80      0.80      7912\n",
      "\n",
      "Matriz de confusión\n"
     ]
    },
    {
     "data": {
      "image/png": "[encoded data removed]",
      "text/plain": [
       "<Figure size 640x480 with 2 Axes>"
      ]
     },
     "metadata": {},
     "output_type": "display_data"
    },
    {
     "data": {
      "text/plain": [
       "{'accuracy': 0.8024519716885743,\n",
       " 'recall': 0.8024500965968154,\n",
       " 'precision': 0.8032325148950358,\n",
       " 'f1_score': 0.8022991706785495}"
      ]
     },
     "metadata": {},
     "output_type": "display_data"
    }
   ],
   "source": [
    "from src.trainers.utils import evaluate_model\n",
    "from src.trainers.utils import load_model\n",
    "\n",
    "# Evaluar modelo con datos de prueba\n",
    "pipeline = load_model(NB_PIPELINE_PATH)\n",
    "metrics = evaluate_model(pipeline, dataset_test, title=\"Naive Bayes\")\n",
    "display(metrics)"
   ]
  },
  {
   "cell_type": "markdown",
   "metadata": {},
   "source": [
    "## Test"
   ]
  },
  {
   "cell_type": "code",
   "execution_count": 7,
   "metadata": {},
   "outputs": [
    {
     "name": "stdout",
     "output_type": "stream",
     "text": [
      "Modelo cargado: en_core_web_sm\n",
      "Aplicando stemming...\n",
      "Total de documentos preprocesados: 2\n",
      "m studi hard: NEU\n",
      "m happi: POS\n"
     ]
    }
   ],
   "source": [
    "from constants.constants_nlp import INDEX_TO_POLARITY\n",
    "from src.preprocesamiento.clean import clean_text\n",
    "from src.preprocesamiento.nlp_spacy import preprocesamiento\n",
    "\n",
    "textos_test = [\"i'm study hard\", \"i'm happy\"]\n",
    "textos_test = list(map(lambda x: clean_text(x, \"en\"), textos_test))\n",
    "textos_test = preprocesamiento(textos_test, stemming=True, lang=\"en\")\n",
    "\n",
    "preds = pipeline.predict(textos_test)\n",
    "for input, pred in zip(textos_test,preds):\n",
    "    print(f\"{input}: {INDEX_TO_POLARITY[pred]}\")"
   ]
  }
 ],
 "metadata": {
  "kernelspec": {
   "display_name": "tensorflow_pytorch",
   "language": "python",
   "name": "python3"
  },
  "language_info": {
   "codemirror_mode": {
    "name": "ipython",
    "version": 3
   },
   "file_extension": ".py",
   "mimetype": "text/x-python",
   "name": "python",
   "nbconvert_exporter": "python",
   "pygments_lexer": "ipython3",
   "version": "3.11.11"
  }
 },
 "nbformat": 4,
 "nbformat_minor": 2
}
