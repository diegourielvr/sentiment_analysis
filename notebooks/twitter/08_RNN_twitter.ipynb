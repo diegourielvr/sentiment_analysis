{
 "cells": [
  {
   "cell_type": "markdown",
   "id": "9fee4c99",
   "metadata": {},
   "source": [
    "# Recurrent Neural Network"
   ]
  },
  {
   "cell_type": "code",
   "execution_count": null,
   "id": "ed542bf2",
   "metadata": {},
   "outputs": [],
   "source": [
    "import sys\n",
    "import os\n",
    "\n",
    "# Agregar el directorio raiz al PYTHONPATH\n",
    "module_path = os.path.abspath(os.path.join('../..'))\n",
    "if module_path not in sys.path:\n",
    "    sys.path.append(module_path)"
   ]
  },
  {
   "cell_type": "code",
   "execution_count": null,
   "id": "476a7666",
   "metadata": {},
   "outputs": [],
   "source": [
    "from src.trainers.utils import build_datasets, save_metrics\n",
    "from constants.constants_twitter import TWITTER_DATASET_TRAIN_PATH\n",
    "\n",
    "dataset_train, dataset_test, dataset_val = build_datasets(\n",
    "    TWITTER_DATASET_TRAIN_PATH,\n",
    "    test_size=0.3,\n",
    "    val_size=0.5, # 0.5 de 0.3    \n",
    "    random_state=42\n",
    ")\n",
    "print(dataset_train.shape)\n",
    "print(dataset_test.shape)\n",
    "print(dataset_val.shape)"
   ]
  },
  {
   "cell_type": "code",
   "execution_count": null,
   "id": "097c1f5d",
   "metadata": {},
   "outputs": [],
   "source": [
    "from src.preprocesamiento.nlp_spacy import Tokenizer\n",
    "\n",
    "tokenizer = Tokenizer()\n",
    "\n",
    "dataset_train_tokenized = {}\n",
    "dataset_val_tokenized = {}\n",
    "dataset_test_tokenized = {}\n",
    "\n",
    "dataset_train_tokenized['tokens'] = tokenizer.tokenize(dataset_train['text'], True)\n",
    "dataset_val_tokenized['tokens'] = tokenizer.tokenize(dataset_val['text'], True)\n",
    "dataset_test_tokenized['tokens'] = tokenizer.tokenize(dataset_test['text'], True)\n",
    "\n",
    "dataset_train_tokenized['polarity'] = dataset_train['polarity'].to_numpy()\n",
    "dataset_val_tokenized['polarity'] = dataset_val['polarity'].to_numpy()\n",
    "dataset_test_tokenized['polarity'] = dataset_test['polarity'].to_numpy()"
   ]
  },
  {
   "cell_type": "markdown",
   "id": "eabe5489",
   "metadata": {},
   "source": [
    "## Entrenar RNN"
   ]
  },
  {
   "cell_type": "code",
   "execution_count": null,
   "id": "bfb0217c",
   "metadata": {},
   "outputs": [],
   "source": [
    "import numpy as np\n",
    "from src.trainers.utils import ModelArgs, EarlyStopping \n",
    "\n",
    "list_optim = [\"adam\", \"sgd\"]\n",
    "batch_size = 64\n",
    "list_lr = np.logspace(-3, -0.4, 5)\n",
    "print(list_lr)\n",
    "epochs = 100\n",
    "\n",
    "patience = 15\n",
    "min_delta = 1e-4\n",
    "\n",
    "model_args = ModelArgs()\n",
    "model_args.hidden_size = 128\n",
    "model_args.num_layers = 2\n",
    "model_args.output_size = 3\n",
    "model_args.dropout = 0.20"
   ]
  },
  {
   "cell_type": "code",
   "execution_count": null,
   "id": "7e139140",
   "metadata": {},
   "outputs": [],
   "source": [
    "\n",
    "import os\n",
    "from src.trainers.train_rnn import train_rnn\n",
    "from src.trainers.utils import show_loss_val_curves, save_model_torch\n",
    "from constants.constants_twitter import RNN_LOSS_CURVES_DIR, RNN_MODEL_PATH, TWITTER_RNN_METRICS_PATH, EMBEDDING_W2V_TWITTER_PATH\n",
    "\n",
    "best_accuracy = -1\n",
    "for optim in list_optim:\n",
    "    for lr in list_lr:\n",
    "        cont = 0\n",
    "        model, metrics, train_losses, val_losses = train_rnn(\n",
    "            dataset_train=dataset_train_tokenized,\n",
    "            dataset_val=dataset_val_tokenized,\n",
    "            embeddings_path=EMBEDDING_W2V_TWITTER_PATH,\n",
    "            model_args=model_args,\n",
    "            early_stopping = EarlyStopping(patience, min_delta), # reinicio\n",
    "            batch_size=batch_size,\n",
    "            lr=lr,\n",
    "            epochs=epochs,\n",
    "            optim=optim,\n",
    "            use_class_weights=True\n",
    "        )\n",
    "        print(f\"[RNN {optim} {lr:.5f} {model_args.dropout}] acc: {metrics['accuracy']:.4f}\")\n",
    "        save_metrics(metrics, TWITTER_RNN_METRICS_PATH)\n",
    "        title = f\"RNN_{metrics['optim']} {'-'.join(str(lr).split('.'))}\"\n",
    "        path = os.path.join(RNN_LOSS_CURVES_DIR, f\"{title}_{str(cont)}.png\")\n",
    "        show_loss_val_curves(train_losses, val_losses, len(train_losses))\n",
    "        if metrics['accuracy'] > best_accuracy:\n",
    "            best_accuracy = metrics['accuracy']\n",
    "            save_model_torch(model.get_model(), RNN_MODEL_PATH)"
   ]
  },
  {
   "cell_type": "markdown",
   "id": "ad654107",
   "metadata": {},
   "source": [
    "## Modelo con mayor accuracy"
   ]
  },
  {
   "cell_type": "code",
   "execution_count": null,
   "id": "e13afec2",
   "metadata": {},
   "outputs": [],
   "source": [
    "import pandas as pd\n",
    "from constants.constants_twitter import TWITTER_RNN_METRICS_PATH, EMBEDDING_W2V_TIKTOK_SENTENCES_PATH\n",
    "\n",
    "# Seleccionar los hiperparámetros que generan mayor accuracy\n",
    "df_metrics = pd.read_csv(TWITTER_RNN_METRICS_PATH)\n",
    "\n",
    "best_acc = df_metrics.loc[df_metrics['accuracy'].idxmax()]\n",
    "print(best_acc)"
   ]
  },
  {
   "cell_type": "code",
   "execution_count": null,
   "id": "d9b5c1ec",
   "metadata": {},
   "outputs": [],
   "source": [
    "from constants.constants_twitter import RNN_MODEL_PATH\n",
    "from src.trainers.trainer_rnn import evaluate_model\n",
    "from src.trainers.train_rnn import RNNModel\n",
    "from src.trainers.utils import load_model_torch\n",
    "\n",
    "batch_size = 64\n",
    "model_args = ModelArgs()\n",
    "model_args.input_size= best_acc['embedding_dim']\n",
    "model_args.hidden_size = int(best_acc['hidden_size'])\n",
    "model_args.num_layers = int(best_acc['num_layers'])\n",
    "model_args.output_size = 3\n",
    "model_args.dropout = best_acc['dropout']\n",
    "\n",
    "model = RNNModel(model_args)\n",
    "model = load_model_torch(model, RNN_MODEL_PATH)\n",
    "\n",
    "metrics = evaluate_model(\n",
    "    model,\n",
    "    dataset_test_tokenized,\n",
    "    \"RNN\",\n",
    "    EMBEDDING_W2V_TWITTER_PATH,\n",
    "    batch_size,\n",
    ")\n",
    "print(metrics)"
   ]
  },
  {
   "cell_type": "code",
   "execution_count": null,
   "id": "3499a4c6",
   "metadata": {},
   "outputs": [],
   "source": [
    "from src.trainers.train_rnn import RNNModel\n",
    "from constants.constants_twitter import RNN_MODEL_PATH\n",
    "from src.trainers.utils import load_model_torch\n",
    "from src.trainers.train_rnn import SentimentAnalysis\n",
    "\n",
    "from src.preprocesamiento.nlp_spacy import Tokenizer\n",
    "\n",
    "tokenizer = Tokenizer()\n",
    "\n",
    "model = RNNModel(model_args)\n",
    "model = load_model_torch(model, RNN_MODEL_PATH)\n",
    "cls = SentimentAnalysis(model, tokenizer, EMBEDDING_W2V_TWITTER_PATH,\"cpu\")"
   ]
  }
 ],
 "metadata": {
  "kernelspec": {
   "display_name": "tensorflow_pytorch",
   "language": "python",
   "name": "python3"
  },
  "language_info": {
   "codemirror_mode": {
    "name": "ipython",
    "version": 3
   },
   "file_extension": ".py",
   "mimetype": "text/x-python",
   "name": "python",
   "nbconvert_exporter": "python",
   "pygments_lexer": "ipython3",
   "version": "3.11.11"
  }
 },
 "nbformat": 4,
 "nbformat_minor": 5
}
