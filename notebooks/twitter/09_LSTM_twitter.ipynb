{
 "cells": [
  {
   "cell_type": "markdown",
   "id": "1a5a88ed",
   "metadata": {},
   "source": [
    "# Long Short Term MEmory"
   ]
  },
  {
   "cell_type": "code",
   "execution_count": null,
   "id": "6c10eb96",
   "metadata": {},
   "outputs": [],
   "source": [
    "import sys\n",
    "import os\n",
    "\n",
    "# Agregar el directorio raiz al PYTHONPATH\n",
    "module_path = os.path.abspath(os.path.join('../..'))\n",
    "if module_path not in sys.path:\n",
    "    sys.path.append(module_path)"
   ]
  },
  {
   "cell_type": "code",
   "execution_count": null,
   "id": "ed4b9441",
   "metadata": {},
   "outputs": [],
   "source": [
    "from src.trainers.utils import build_datasets, save_metrics\n",
    "from constants.constants_twitter import TWITTER_DATASET_TRAIN_PATH\n",
    "\n",
    "dataset_train, dataset_test, dataset_val = build_datasets(\n",
    "    TWITTER_DATASET_TRAIN_PATH,\n",
    "    test_size=0.3,\n",
    "    val_size=0.5, # 0.5 de 0.3    \n",
    "    random_state=42\n",
    ")\n",
    "print(dataset_train.shape)\n",
    "print(dataset_test.shape)\n",
    "print(dataset_val.shape)"
   ]
  },
  {
   "cell_type": "code",
   "execution_count": null,
   "id": "99fdafb3",
   "metadata": {},
   "outputs": [],
   "source": [
    "from src.preprocesamiento.nlp_spacy import Tokenizer\n",
    "\n",
    "tokenizer = Tokenizer()\n",
    "\n",
    "dataset_train_tokenized = {}\n",
    "dataset_val_tokenized = {}\n",
    "dataset_test_tokenized = {}\n",
    "\n",
    "dataset_train_tokenized['tokens'] = tokenizer.tokenize(dataset_train['text'], True)\n",
    "dataset_val_tokenized['tokens'] = tokenizer.tokenize(dataset_val['text'], True)\n",
    "dataset_test_tokenized['tokens'] = tokenizer.tokenize(dataset_test['text'], True)\n",
    "\n",
    "dataset_train_tokenized['polarity'] = dataset_train['polarity'].to_numpy()\n",
    "dataset_val_tokenized['polarity'] = dataset_val['polarity'].to_numpy()\n",
    "dataset_test_tokenized['polarity'] = dataset_test['polarity'].to_numpy()"
   ]
  },
  {
   "cell_type": "markdown",
   "id": "bda512f4",
   "metadata": {},
   "source": [
    "## Entrenar LSTM"
   ]
  },
  {
   "cell_type": "code",
   "execution_count": null,
   "id": "160654bd",
   "metadata": {},
   "outputs": [],
   "source": [
    "import numpy as np\n",
    "from src.trainers.utils import ModelArgs, EarlyStopping \n",
    "\n",
    "list_optim = [\"adam\", \"sgd\"]\n",
    "batch_size = 64\n",
    "list_lr = np.logspace(-3, 0.3, 5)\n",
    "print(list_lr)\n",
    "epochs = 100\n",
    "\n",
    "patience = None\n",
    "min_delta = 1e-4\n",
    "\n",
    "model_args = ModelArgs()\n",
    "model_args.hidden_size = 128 # Numero de neuronas en las capas recurrentes\n",
    "model_args.num_layers = 2 # Númerod e capas recurrentes\n",
    "model_args.output_size = 3\n",
    "model_args.dropout = 0.20"
   ]
  },
  {
   "cell_type": "code",
   "execution_count": null,
   "id": "25ba939b",
   "metadata": {},
   "outputs": [],
   "source": [
    "import os\n",
    "from src.trainers.train_lstm import train_lstm\n",
    "from src.trainers.utils import show_loss_val_curves, save_model_torch\n",
    "from constants.constants_twitter import LSTM_LOSS_CURVES_DIR, TWITTER_LSTM_METRICS_PATH, LSTM_MODEL_PATH, EMBEDDING_W2V_TWITTER_PATH\n",
    "\n",
    "for optim in list_optim:\n",
    "    for lr in list_lr:\n",
    "        cont = 0\n",
    "        model, metrics, train_losses, val_losses = train_lstm(\n",
    "            dataset_train=dataset_train_tokenized,\n",
    "            dataset_val=dataset_val_tokenized,\n",
    "            embeddings_path=EMBEDDING_W2V_TWITTER_PATH,\n",
    "            model_args=model_args,\n",
    "            early_stopping = EarlyStopping(patience, min_delta), # reinicio\n",
    "            batch_size=batch_size,\n",
    "            lr=lr,\n",
    "            epochs=epochs,\n",
    "            optim=optim,\n",
    "            use_class_weights=True\n",
    "        )\n",
    "        print(f\"[LSTM {optim} {lr:.5f} {model_args.dropout}] acc: {metrics['accuracy']:.4f}\")\n",
    "        save_metrics(metrics, TWITTER_LSTM_METRICS_PATH)\n",
    "        title = f\"LSTM {metrics['optim']} {'-'.join(str(lr).split('.'))}\"\n",
    "        path = os.path.join(LSTM_LOSS_CURVES_DIR, f\"{title}_{str(cont)}.png\")\n",
    "        show_loss_val_curves(train_losses, val_losses, len(train_losses))\n",
    "        if metrics['accuracy'] > best_accuracy:\n",
    "            best_accuracy = metrics['accuracy']\n",
    "            save_model_torch(model.get_model(), LSTM_MODEL_PATH)"
   ]
  },
  {
   "cell_type": "markdown",
   "id": "9ab995b9",
   "metadata": {},
   "source": [
    "## Modelo con mayor accuracy"
   ]
  },
  {
   "cell_type": "code",
   "execution_count": null,
   "id": "101114b9",
   "metadata": {},
   "outputs": [],
   "source": [
    "import pandas as pd\n",
    "\n",
    "# Seleccionar los hiperparámetros que generan mayor accuracy\n",
    "df_metrics = pd.read_csv(TWITTER_LSTM_METRICS_PATH)\n",
    "\n",
    "best_acc = df_metrics.loc[df_metrics['accuracy'].idxmax()]\n",
    "print(best_acc)"
   ]
  },
  {
   "cell_type": "code",
   "execution_count": null,
   "id": "87822dd4",
   "metadata": {},
   "outputs": [],
   "source": [
    "from src.trainers.utils import ModelArgs, load_model_torch\n",
    "from src.trainers.trainer_rnn import evaluate_model\n",
    "from src.trainers.train_lstm import LSTMMOdel\n",
    "\n",
    "batch_size = 64\n",
    "model_args = ModelArgs()\n",
    "model_args.input_size = best_acc['embedding_dim']\n",
    "model_args.hidden_size = int(best_acc['hidden_size'])\n",
    "model_args.num_layers = int(best_acc['num_layers'])\n",
    "model_args.output_size = 3\n",
    "model_args.dropout = best_acc['dropout']\n",
    "\n",
    "model = LSTMMOdel(model_args)\n",
    "model = load_model_torch(model, LSTM_MODEL_PATH)\n",
    "\n",
    "metrics = evaluate_model(\n",
    "    model,\n",
    "    dataset_test_tokenized,\n",
    "    \"LSTM\",\n",
    "    EMBEDDING_W2V_TWITTER_PATH,\n",
    "    batch_size,\n",
    ")\n",
    "display(metrics)"
   ]
  },
  {
   "cell_type": "code",
   "execution_count": null,
   "id": "ad2735a8",
   "metadata": {},
   "outputs": [],
   "source": [
    "from src.trainers.train_lstm import LSTMModel\n",
    "from constants.constants_twitter import LSTM_MODEL_PATH\n",
    "from src.trainers.utils import load_model_torch\n",
    "from src.trainers.train_rnn import SentimentAnalysis\n",
    "\n",
    "from src.preprocesamiento.nlp_spacy import Tokenizer\n",
    "\n",
    "tokenizer = Tokenizer()\n",
    "\n",
    "model = LSTMModel(model_args)\n",
    "model = load_model_torch(model, LSTM_MODEL_PATH)\n",
    "cls = SentimentAnalysis(model, tokenizer, EMBEDDING_W2V_TWITTER_PATH,\"cpu\")"
   ]
  }
 ],
 "metadata": {
  "kernelspec": {
   "display_name": "tensorflow_pytorch",
   "language": "python",
   "name": "python3"
  },
  "language_info": {
   "codemirror_mode": {
    "name": "ipython",
    "version": 3
   },
   "file_extension": ".py",
   "mimetype": "text/x-python",
   "name": "python",
   "nbconvert_exporter": "python",
   "pygments_lexer": "ipython3",
   "version": "3.11.11"
  }
 },
 "nbformat": 4,
 "nbformat_minor": 5
}
