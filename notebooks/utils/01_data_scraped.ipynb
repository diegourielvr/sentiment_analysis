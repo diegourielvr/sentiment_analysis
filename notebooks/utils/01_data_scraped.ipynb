{
 "cells": [
  {
   "cell_type": "markdown",
   "metadata": {},
   "source": [
    "# Fusionar los datos scrapeados"
   ]
  },
  {
   "cell_type": "markdown",
   "metadata": {},
   "source": [
    "Fusionar los datos recolectados para descargar los videos."
   ]
  },
  {
   "cell_type": "code",
   "execution_count": 1,
   "metadata": {},
   "outputs": [],
   "source": [
    "import sys\n",
    "import os\n",
    "\n",
    "# Agregar el directorio raiz al PYTHONPATH\n",
    "module_path = os.path.abspath(os.path.join('../..'))\n",
    "if module_path not in sys.path:\n",
    "    sys.path.append(module_path)"
   ]
  },
  {
   "cell_type": "code",
   "execution_count": 2,
   "metadata": {},
   "outputs": [
    {
     "name": "stderr",
     "output_type": "stream",
     "text": [
      "100%|██████████| 28/28 [00:00<00:00, 145.62it/s]"
     ]
    },
    {
     "name": "stdout",
     "output_type": "stream",
     "text": [
      "<class 'pandas.core.frame.DataFrame'>\n",
      "RangeIndex: 7108 entries, 0 to 7107\n",
      "Data columns (total 8 columns):\n",
      " #   Column              Non-Null Count  Dtype \n",
      "---  ------              --------------  ----- \n",
      " 0   views               7108 non-null   int64 \n",
      " 1   title               7108 non-null   object\n",
      " 2   hashtags            7108 non-null   object\n",
      " 3   date                7108 non-null   object\n",
      " 4   fecha_recuperacion  7108 non-null   object\n",
      " 5   caption             7108 non-null   object\n",
      " 6   url                 7108 non-null   object\n",
      " 7   termino             7108 non-null   object\n",
      "dtypes: int64(1), object(7)\n",
      "memory usage: 444.4+ KB\n",
      "None\n"
     ]
    },
    {
     "name": "stderr",
     "output_type": "stream",
     "text": [
      "\n"
     ]
    }
   ],
   "source": [
    "import os\n",
    "import pandas as pd\n",
    "from tqdm import tqdm\n",
    "\n",
    "from constants.constants_tiktok import TIKTOK_SCRAPED_DIR\n",
    "EXT = \".json\"\n",
    "\n",
    "dfs = []\n",
    "# Cargar archivos y combinarlos\n",
    "for filename in tqdm(os.listdir(TIKTOK_SCRAPED_DIR)):\n",
    "    if filename.endswith(EXT):\n",
    "        full_path = os.path.join(TIKTOK_SCRAPED_DIR, filename)\n",
    "        df = pd.read_json(full_path, encoding=\"utf-8\")\n",
    "        termino = filename.replace(EXT, \"\")\n",
    "        df['termino'] = \"_\".join(termino.lower().split())\n",
    "        dfs.append(df)\n",
    "merged_df = pd.concat(dfs, ignore_index=True)\n",
    "print(merged_df.info())"
   ]
  },
  {
   "cell_type": "markdown",
   "metadata": {},
   "source": [
    "Eliminar filas donde las urls estén repetidas para evitar descargar un video varias veces"
   ]
  },
  {
   "cell_type": "code",
   "execution_count": 3,
   "metadata": {},
   "outputs": [
    {
     "name": "stdout",
     "output_type": "stream",
     "text": [
      "<class 'pandas.core.frame.DataFrame'>\n",
      "RangeIndex: 7108 entries, 0 to 7107\n",
      "Data columns (total 8 columns):\n",
      " #   Column              Non-Null Count  Dtype \n",
      "---  ------              --------------  ----- \n",
      " 0   views               7108 non-null   int64 \n",
      " 1   title               7108 non-null   object\n",
      " 2   hashtags            7108 non-null   object\n",
      " 3   date                7108 non-null   object\n",
      " 4   fecha_recuperacion  7108 non-null   object\n",
      " 5   caption             7108 non-null   object\n",
      " 6   url                 7108 non-null   object\n",
      " 7   termino             7108 non-null   object\n",
      "dtypes: int64(1), object(7)\n",
      "memory usage: 444.4+ KB\n",
      "None\n"
     ]
    }
   ],
   "source": [
    "merged_df.drop_duplicates(subset=\"url\", keep=\"first\").reset_index(drop=True)\n",
    "print(merged_df.info())"
   ]
  },
  {
   "cell_type": "markdown",
   "metadata": {},
   "source": [
    "\n",
    "Guardar archivos recolectados combinados"
   ]
  },
  {
   "cell_type": "code",
   "execution_count": 5,
   "metadata": {},
   "outputs": [
    {
     "name": "stdout",
     "output_type": "stream",
     "text": [
      "Archivo guardado en: c:\\Users\\Diego\\Desktop\\sentiment_analysis\\data\\tiktok\\raw\\tiktok_merged_scraped.csv\n"
     ]
    }
   ],
   "source": [
    "\n",
    "from constants.constants_tiktok import TIKTOK_MERGED_SCRAPED_PATH\n",
    "\n",
    "merged_df.to_csv(TIKTOK_MERGED_SCRAPED_PATH, index=False)\n",
    "print(f\"Archivo guardado en: {TIKTOK_MERGED_SCRAPED_PATH}\")"
   ]
  },
  {
   "cell_type": "markdown",
   "metadata": {},
   "source": [
    "# Descargar y transcribir videos"
   ]
  },
  {
   "cell_type": "code",
   "execution_count": null,
   "metadata": {},
   "outputs": [],
   "source": [
    "from scraping.data_collection import download_and_trancribe\n",
    "\n",
    "# Cargar datos a descargar\n",
    "merged_df = pd.read_csv(TIKTOK_MERGED_SCRAPED_PATH, encoding=\"utf-8\")\n",
    "\n",
    "start = 0\n",
    "end = 1\n",
    "\n",
    "merged_df['descargado'] = None\n",
    "merged_df['text'] = None\n",
    "merged_df['idioma'] = None\n",
    "\n",
    "sub_df = merged_df[start:end]\n",
    "sub_df.apply(download_and_trancribe, axis=1)\n",
    "\n"
   ]
  }
 ],
 "metadata": {
  "kernelspec": {
   "display_name": "tensorflow_pytorch",
   "language": "python",
   "name": "python3"
  },
  "language_info": {
   "codemirror_mode": {
    "name": "ipython",
    "version": 3
   },
   "file_extension": ".py",
   "mimetype": "text/x-python",
   "name": "python",
   "nbconvert_exporter": "python",
   "pygments_lexer": "ipython3",
   "version": "3.11.11"
  }
 },
 "nbformat": 4,
 "nbformat_minor": 2
}
